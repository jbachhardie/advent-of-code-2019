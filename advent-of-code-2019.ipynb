{
 "cells": [
  {
   "cell_type": "markdown",
   "metadata": {},
   "source": [
    "# Day 1\n",
    "\n",
    "## Problem 1\n",
    "\n",
    "At the first Go / No Go poll, every Elf is Go until the Fuel Counter-Upper. They haven't determined the amount of fuel required yet.\n",
    "\n",
    "Fuel required to launch a given module is based on its mass. Specifically, to find the fuel required for a module, take its mass, divide by three, round down, and subtract 2."
   ]
  },
  {
   "cell_type": "code",
   "execution_count": 4,
   "metadata": {},
   "outputs": [],
   "source": [
    "import math\n",
    "def problem1(mass):\n",
    "    return math.floor(mass / 3) - 2"
   ]
  },
  {
   "cell_type": "code",
   "execution_count": 7,
   "metadata": {},
   "outputs": [
    {
     "data": {
      "text/plain": [
       "2"
      ]
     },
     "execution_count": 7,
     "metadata": {},
     "output_type": "execute_result"
    }
   ],
   "source": [
    "# For a mass of 12, divide by 3 and round down to get 4, then subtract 2 to get 2.\n",
    "\n",
    "problem1(12)"
   ]
  },
  {
   "cell_type": "code",
   "execution_count": 9,
   "metadata": {},
   "outputs": [
    {
     "data": {
      "text/plain": [
       "2"
      ]
     },
     "execution_count": 9,
     "metadata": {},
     "output_type": "execute_result"
    }
   ],
   "source": [
    "# For a mass of 14, dividing by 3 and rounding down still yields 4, so the fuel required is also 2.\n",
    "\n",
    "problem1(14)"
   ]
  },
  {
   "cell_type": "code",
   "execution_count": 10,
   "metadata": {},
   "outputs": [
    {
     "data": {
      "text/plain": [
       "654"
      ]
     },
     "execution_count": 10,
     "metadata": {},
     "output_type": "execute_result"
    }
   ],
   "source": [
    "# For a mass of 1969, the fuel required is 654\n",
    "\n",
    "problem1(1969)"
   ]
  },
  {
   "cell_type": "code",
   "execution_count": 11,
   "metadata": {},
   "outputs": [
    {
     "data": {
      "text/plain": [
       "33583"
      ]
     },
     "execution_count": 11,
     "metadata": {},
     "output_type": "execute_result"
    }
   ],
   "source": [
    "# For a mass of 100756, the fuel required is 33583.\n",
    "\n",
    "problem1(100756)"
   ]
  },
  {
   "cell_type": "code",
   "execution_count": 31,
   "metadata": {},
   "outputs": [
    {
     "data": {
      "text/plain": [
       "3380731"
      ]
     },
     "execution_count": 31,
     "metadata": {},
     "output_type": "execute_result"
    }
   ],
   "source": [
    "input = \"\"\"\n",
    "140403\n",
    "114038\n",
    "56226\n",
    "132100\n",
    "62000\n",
    "111395\n",
    "91372\n",
    "126850\n",
    "145044\n",
    "79273\n",
    "91088\n",
    "84429\n",
    "58971\n",
    "107626\n",
    "149678\n",
    "85268\n",
    "105251\n",
    "115850\n",
    "115947\n",
    "74982\n",
    "75008\n",
    "97761\n",
    "121022\n",
    "148319\n",
    "125244\n",
    "138640\n",
    "86968\n",
    "144443\n",
    "137218\n",
    "139558\n",
    "128776\n",
    "53593\n",
    "133805\n",
    "64245\n",
    "113120\n",
    "63085\n",
    "59209\n",
    "51671\n",
    "63956\n",
    "139163\n",
    "119501\n",
    "77432\n",
    "51040\n",
    "137313\n",
    "58973\n",
    "64708\n",
    "76505\n",
    "108041\n",
    "101124\n",
    "133219\n",
    "95907\n",
    "57933\n",
    "117791\n",
    "76209\n",
    "102960\n",
    "90848\n",
    "141969\n",
    "91297\n",
    "146254\n",
    "84585\n",
    "103447\n",
    "83172\n",
    "76648\n",
    "111340\n",
    "118543\n",
    "52957\n",
    "86004\n",
    "131965\n",
    "90898\n",
    "90909\n",
    "52217\n",
    "144674\n",
    "97058\n",
    "72387\n",
    "57962\n",
    "147792\n",
    "114025\n",
    "100193\n",
    "77582\n",
    "146708\n",
    "54283\n",
    "143979\n",
    "99582\n",
    "149890\n",
    "73229\n",
    "56045\n",
    "63240\n",
    "124091\n",
    "103324\n",
    "125187\n",
    "74027\n",
    "120344\n",
    "105333\n",
    "100939\n",
    "131454\n",
    "109570\n",
    "149398\n",
    "140535\n",
    "57379\n",
    "138385\n",
    "\"\"\"\n",
    "masses = [int(i) for i in input.split(\"\\n\") if i != \"\"]\n",
    "fuel_reqs = [problem1(i) for i in masses]\n",
    "sum(fuel_reqs)"
   ]
  },
  {
   "cell_type": "markdown",
   "metadata": {},
   "source": [
    "## Problem 2\n",
    "\n",
    "Fuel itself requires fuel just like a module - take its mass, divide by three, round down, and subtract 2. However, that fuel also requires fuel, and that fuel requires fuel, and so on. Any mass that would require negative fuel should instead be treated as if it requires zero fuel; the remaining mass, if any, is instead handled by wishing really hard, which has no mass and is outside the scope of this calculation.\n",
    "\n",
    "So, for each module mass, calculate its fuel and add it to the total. Then, treat the fuel amount you just calculated as the input mass and repeat the process, continuing until a fuel requirement is zero or negative."
   ]
  },
  {
   "cell_type": "code",
   "execution_count": 42,
   "metadata": {},
   "outputs": [
    {
     "data": {
      "text/plain": [
       "5068210"
      ]
     },
     "execution_count": 42,
     "metadata": {},
     "output_type": "execute_result"
    }
   ],
   "source": [
    "def additional_fuel_reqs(fuel_reqs):\n",
    "    new_reqs = [problem1(i) for i in fuel_reqs if problem1(i) > 0]\n",
    "    if len(new_reqs) > 0:\n",
    "        return new_reqs + additional_fuel_reqs(new_reqs)\n",
    "    else:\n",
    "        return new_reqs\n",
    "    \n",
    "sum(fuel_reqs + additional_fuel_reqs(fuel_reqs))"
   ]
  },
  {
   "cell_type": "markdown",
   "metadata": {},
   "source": [
    "# Day 2\n",
    "\n",
    "## Problem 1\n",
    "\n",
    "On the way to your gravity assist around the Moon, your ship computer beeps angrily about a \"1202 program alarm\". On the radio, an Elf is already explaining how to handle the situation: \"Don't worry, that's perfectly norma--\" The ship computer bursts into flames.\n",
    "\n",
    "You notify the Elves that the computer's magic smoke seems to have escaped. \"That computer ran Intcode programs like the gravity assist program it was working on; surely there are enough spare parts up there to build a new Intcode computer!\"\n",
    "\n",
    "An Intcode program is a list of integers separated by commas (like 1,0,0,3,99). To run one, start by looking at the first integer (called position 0). Here, you will find an opcode - either 1, 2, or 99. The opcode indicates what to do; for example, 99 means that the program is finished and should immediately halt. Encountering an unknown opcode means something went wrong.\n",
    "\n",
    "Opcode 1 adds together numbers read from two positions and stores the result in a third position. The three integers immediately after the opcode tell you these three positions - the first two indicate the positions from which you should read the input values, and the third indicates the position at which the output should be stored.\n",
    "\n",
    "For example, if your Intcode computer encounters 1,10,20,30, it should read the values at positions 10 and 20, add those values, and then overwrite the value at position 30 with their sum.\n",
    "\n",
    "Opcode 2 works exactly like opcode 1, except it multiplies the two inputs instead of adding them. Again, the three integers after the opcode indicate where the inputs and outputs are, not their values.\n",
    "\n",
    "Once you're done processing an opcode, move to the next one by stepping forward 4 positions.\n",
    "\n",
    "For example, suppose you have the following program:\n",
    "\n",
    "```\n",
    "1,9,10,3,2,3,11,0,99,30,40,50\n",
    "```\n",
    "\n",
    "For the purposes of illustration, here is the same program split into multiple lines:\n",
    "\n",
    "```\n",
    "1,9,10,3,\n",
    "2,3,11,0,\n",
    "99,\n",
    "30,40,50\n",
    "```\n",
    "\n",
    "The first four integers, 1,9,10,3, are at positions 0, 1, 2, and 3. Together, they represent the first opcode (1, addition), the positions of the two inputs (9 and 10), and the position of the output (3). To handle this opcode, you first need to get the values at the input positions: position 9 contains 30, and position 10 contains 40. Add these numbers together to get 70. Then, store this value at the output position; here, the output position (3) is at position 3, so it overwrites itself. Afterward, the program looks like this:\n",
    "\n",
    "```\n",
    "1,9,10,70,\n",
    "2,3,11,0,\n",
    "99,\n",
    "30,40,50\n",
    "```\n",
    "\n",
    "Step forward 4 positions to reach the next opcode, 2. This opcode works just like the previous, but it multiplies instead of adding. The inputs are at positions 3 and 11; these positions contain 70 and 50 respectively. Multiplying these produces 3500; this is stored at position 0:\n",
    "\n",
    "```\n",
    "3500,9,10,70,\n",
    "2,3,11,0,\n",
    "99,\n",
    "30,40,50\n",
    "```\n",
    "\n",
    "Stepping forward 4 more positions arrives at opcode 99, halting the program.\n",
    "\n",
    "Here are the initial and final states of a few more small programs:\n",
    "\n",
    "- 1,0,0,0,99 becomes 2,0,0,0,99 (1 + 1 = 2).\n",
    "- 2,3,0,3,99 becomes 2,3,0,6,99 (3 * 2 = 6).\n",
    "- 2,4,4,5,99,0 becomes 2,4,4,5,99,9801 (99 * 99 = 9801).\n",
    "- 1,1,1,4,99,5,6,0,99 becomes 30,1,1,4,2,5,6,0,99.\n",
    "\n",
    "Once you have a working computer, the first step is to restore the gravity assist program (your puzzle input) to the \"1202 program alarm\" state it had just before the last computer caught fire. To do this, before running the program, replace position 1 with the value 12 and replace position 2 with the value 2. What value is left at position 0 after the program halts?\n",
    "\n"
   ]
  },
  {
   "cell_type": "code",
   "execution_count": 50,
   "metadata": {},
   "outputs": [],
   "source": [
    "def day2_step(input, current_index=0):\n",
    "    opcode = input[current_index]\n",
    "    if opcode == 1:\n",
    "        input[input[current_index + 3]] = input[input[current_index + 1]] + input[input[current_index + 2]]\n",
    "        return day2_step(input, current_index + 4)\n",
    "    elif opcode == 2:\n",
    "        input[input[current_index + 3]] = input[input[current_index + 1]] * input[input[current_index + 2]]\n",
    "        return day2_step(input, current_index + 4)\n",
    "    elif opcode == 99:\n",
    "        return input\n",
    "    else:\n",
    "        raise ValueError('Invalid opcode')"
   ]
  },
  {
   "cell_type": "code",
   "execution_count": 51,
   "metadata": {},
   "outputs": [
    {
     "data": {
      "text/plain": [
       "[3500, 9, 10, 70, 2, 3, 11, 0, 99, 30, 40, 50]"
      ]
     },
     "execution_count": 51,
     "metadata": {},
     "output_type": "execute_result"
    }
   ],
   "source": [
    "day2_step([1,9,10,3,2,3,11,0,99,30,40,50])"
   ]
  },
  {
   "cell_type": "code",
   "execution_count": 45,
   "metadata": {},
   "outputs": [
    {
     "data": {
      "text/plain": [
       "[2, 0, 0, 0, 99]"
      ]
     },
     "execution_count": 45,
     "metadata": {},
     "output_type": "execute_result"
    }
   ],
   "source": [
    "day2_step([1,0,0,0,99])"
   ]
  },
  {
   "cell_type": "code",
   "execution_count": 46,
   "metadata": {},
   "outputs": [
    {
     "data": {
      "text/plain": [
       "[2, 3, 0, 6, 99]"
      ]
     },
     "execution_count": 46,
     "metadata": {},
     "output_type": "execute_result"
    }
   ],
   "source": [
    "day2_step([2,3,0,3,99])"
   ]
  },
  {
   "cell_type": "code",
   "execution_count": 47,
   "metadata": {},
   "outputs": [
    {
     "data": {
      "text/plain": [
       "[2, 4, 4, 5, 99, 9801]"
      ]
     },
     "execution_count": 47,
     "metadata": {},
     "output_type": "execute_result"
    }
   ],
   "source": [
    "day2_step([2,4,4,5,99,0])"
   ]
  },
  {
   "cell_type": "code",
   "execution_count": 48,
   "metadata": {},
   "outputs": [
    {
     "data": {
      "text/plain": [
       "[30, 1, 1, 4, 2, 5, 6, 0, 99]"
      ]
     },
     "execution_count": 48,
     "metadata": {},
     "output_type": "execute_result"
    }
   ],
   "source": [
    "day2_step([1,1,1,4,99,5,6,0,99])"
   ]
  },
  {
   "cell_type": "code",
   "execution_count": 55,
   "metadata": {},
   "outputs": [],
   "source": [
    "input = [1,12,2,3,1,1,2,3,1,3,4,3,1,5,0,3,2,6,1,19,1,19,10,23,2,13,23,27,1,5,27,31,2,6,31,35,1,6,35,39,2,39,9,43,1,5,43,47,1,13,47,51,1,10,51,55,2,55,10,59,2,10,59,63,1,9,63,67,2,67,13,71,1,71,6,75,2,6,75,79,1,5,79,83,2,83,9,87,1,6,87,91,2,91,6,95,1,95,6,99,2,99,13,103,1,6,103,107,1,2,107,111,1,111,9,0,99,2,14,0,0]\n",
    "\n",
    "def run_intcode_command(noun, verb):\n",
    "    memory = input.copy()\n",
    "    memory[1] = noun\n",
    "    memory[2] = verb\n",
    "    return day2_step(memory)[0]"
   ]
  },
  {
   "cell_type": "code",
   "execution_count": 56,
   "metadata": {},
   "outputs": [
    {
     "data": {
      "text/plain": [
       "4138687"
      ]
     },
     "execution_count": 56,
     "metadata": {},
     "output_type": "execute_result"
    }
   ],
   "source": [
    "run_intcode_command(12, 2)"
   ]
  },
  {
   "cell_type": "markdown",
   "metadata": {},
   "source": [
    "## Problem 2\n",
    "\n",
    "\"Good, the new computer seems to be working correctly! Keep it nearby during this mission - you'll probably use it again. Real Intcode computers support many more features than your new one, but we'll let you know what they are as you need them.\"\n",
    "\n",
    "\"However, your current priority should be to complete your gravity assist around the Moon. For this mission to succeed, we should settle on some terminology for the parts you've already built.\"\n",
    "\n",
    "Intcode programs are given as a list of integers; these values are used as the initial state for the computer's memory. When you run an Intcode program, make sure to start by initializing memory to the program's values. A position in memory is called an address (for example, the first value in memory is at \"address 0\").\n",
    "\n",
    "Opcodes (like 1, 2, or 99) mark the beginning of an instruction. The values used immediately after an opcode, if any, are called the instruction's parameters. For example, in the instruction 1,2,3,4, 1 is the opcode; 2, 3, and 4 are the parameters. The instruction 99 contains only an opcode and has no parameters.\n",
    "\n",
    "The address of the current instruction is called the instruction pointer; it starts at 0. After an instruction finishes, the instruction pointer increases by the number of values in the instruction; until you add more instructions to the computer, this is always 4 (1 opcode + 3 parameters) for the add and multiply instructions. (The halt instruction would increase the instruction pointer by 1, but it halts the program instead.)\n",
    "\n",
    "\"With terminology out of the way, we're ready to proceed. To complete the gravity assist, you need to determine what pair of inputs produces the output 19690720.\"\n",
    "\n",
    "The inputs should still be provided to the program by replacing the values at addresses 1 and 2, just like before. In this program, the value placed in address 1 is called the noun, and the value placed in address 2 is called the verb. Each of the two input values will be between 0 and 99, inclusive.\n",
    "\n",
    "Once the program has halted, its output is available at address 0, also just like before. Each time you try a pair of inputs, make sure you first reset the computer's memory to the values in the program (your puzzle input) - in other words, don't reuse memory from a previous attempt.\n",
    "\n",
    "Find the input noun and verb that cause the program to produce the output 19690720. What is 100 * noun + verb? (For example, if noun=12 and verb=2, the answer would be 1202.)"
   ]
  },
  {
   "cell_type": "code",
   "execution_count": 57,
   "metadata": {},
   "outputs": [
    {
     "data": {
      "text/plain": [
       "(66, 35)"
      ]
     },
     "execution_count": 57,
     "metadata": {},
     "output_type": "execute_result"
    }
   ],
   "source": [
    "def solve_day2_problem2(x):\n",
    "    for noun in range(100):\n",
    "        for verb in range(100):\n",
    "            try:\n",
    "                result = run_intcode_command(noun, verb)\n",
    "            except:\n",
    "                continue\n",
    "            else:\n",
    "                if result == x:\n",
    "                    return (noun, verb)\n",
    "                \n",
    "solve_day2_problem2(19690720)"
   ]
  },
  {
   "cell_type": "markdown",
   "metadata": {},
   "source": [
    "# Day 3 - Crossed Wires\n",
    "\n",
    "## Problem 1\n",
    "\n",
    "The gravity assist was successful, and you're well on your way to the Venus refuelling station. During the rush back on Earth, the fuel management system wasn't completely installed, so that's next on the priority list.\n",
    "\n",
    "Opening the front panel reveals a jumble of wires. Specifically, two wires are connected to a central port and extend outward on a grid. You trace the path each wire takes as it leaves the central port, one wire per line of text (your puzzle input).\n",
    "\n",
    "The wires twist and turn, but the two wires occasionally cross paths. To fix the circuit, you need to find the intersection point closest to the central port. Because the wires are on a grid, use the Manhattan distance for this measurement. While the wires do technically cross right at the central port where they both start, this point does not count, nor does a wire count as crossing with itself.\n",
    "\n",
    "For example, if the first wire's path is R8,U5,L5,D3, then starting from the central port (o), it goes right 8, up 5, left 5, and finally down 3:\n",
    "\n",
    "```\n",
    "...........\n",
    "...........\n",
    "...........\n",
    "....+----+.\n",
    "....|....|.\n",
    "....|....|.\n",
    "....|....|.\n",
    ".........|.\n",
    ".o-------+.\n",
    "...........\n",
    "```\n",
    "\n",
    "Then, if the second wire's path is U7,R6,D4,L4, it goes up 7, right 6, down 4, and left 4:\n",
    "\n",
    "```\n",
    "...........\n",
    ".+-----+...\n",
    ".|.....|...\n",
    ".|..+--X-+.\n",
    ".|..|..|.|.\n",
    ".|.-X--+.|.\n",
    ".|..|....|.\n",
    ".|.......|.\n",
    ".o-------+.\n",
    "...........\n",
    "```\n",
    "\n",
    "These wires cross at two locations (marked X), but the lower-left one is closer to the central port: its distance is 3 + 3 = 6.\n",
    "\n",
    "Here are a few more examples:\n",
    "\n",
    "- R75,D30,R83,U83,L12,D49,R71,U7,L72\n",
    "- U62,R66,U55,R34,D71,R55,D58,R83 = distance 159\n",
    "- R98,U47,R26,D63,R33,U87,L62,D20,R33,U53,R51\n",
    "- U98,R91,D20,R16,D67,R40,U7,R15,U6,R7 = distance 135\n",
    "\n",
    "What is the Manhattan distance from the central port to the closest intersection?"
   ]
  },
  {
   "cell_type": "code",
   "execution_count": 75,
   "metadata": {},
   "outputs": [
    {
     "data": {
      "image/png": "[encoded data removed]",
      "text/plain": [
       "<Figure size 432x288 with 1 Axes>"
      ]
     },
     "metadata": {
      "needs_background": "light"
     },
     "output_type": "display_data"
    },
    {
     "name": "stdout",
     "output_type": "stream",
     "text": [
      "Crossing points:  {(3, 3), (6, 5)}\n",
      "Distances : [6, 11]\n",
      "Smallest distance : 6\n"
     ]
    }
   ],
   "source": [
    "import matplotlib.pyplot as plt\n",
    "\n",
    "def wire_path(path_definition):\n",
    "    instructions = path_definition.split(\",\")\n",
    "    current_position = [0, 0]\n",
    "    wire_positions = []\n",
    "    for instruction in instructions:\n",
    "        direction = instruction[0]\n",
    "        distance = int(instruction[1:])\n",
    "        for i in range(distance):\n",
    "            if direction == 'R':\n",
    "                current_position[0] = current_position[0] + 1\n",
    "            elif direction == 'L':\n",
    "                current_position[0] = current_position[0] - 1\n",
    "            elif direction == 'U':\n",
    "                current_position[1] = current_position[1] + 1\n",
    "            elif direction == 'D':\n",
    "                current_position[1] = current_position[1] - 1\n",
    "            else:\n",
    "                raise ValueError('Invalid instruction')\n",
    "            wire_positions.append((current_position[0], current_position[1]))\n",
    "    return wire_positions\n",
    "\n",
    "def wire_path_intersections(a, b):\n",
    "    return set(a).intersection(set(b))\n",
    "\n",
    "def plot_wire_path(wire_path):\n",
    "    plt.plot([i[0] for i in wire_path], [i[1] for i in wire_path])\n",
    "    \n",
    "def analyze_wire_paths(a, b):\n",
    "    a = wire_path(a)\n",
    "    b = wire_path(b)\n",
    "    plot_wire_path(a)\n",
    "    plot_wire_path(b)\n",
    "    plt.show()\n",
    "    intersections = wire_path_intersections(a, b)\n",
    "    print(\"Crossing points: \", intersections)\n",
    "    distances = [(abs(i[0]) + abs(i[1])) for i in intersections]\n",
    "    print(\"Distances :\", distances)\n",
    "    print(\"Smallest distance :\", min(distances))\n",
    "    \n",
    "analyze_wire_paths(\"R8,U5,L5,D3\", \"U7,R6,D4,L4\")"
   ]
  },
  {
   "cell_type": "code",
   "execution_count": 76,
   "metadata": {},
   "outputs": [
    {
     "data": {
      "image/png": "[encoded data removed]",
      "text/plain": [
       "<Figure size 432x288 with 1 Axes>"
      ]
     },
     "metadata": {
      "needs_background": "light"
     },
     "output_type": "display_data"
    },
    {
     "name": "stdout",
     "output_type": "stream",
     "text": [
      "Crossing points:  {(158, -12), (146, 46), (155, 4), (155, 11)}\n",
      "Distances : [170, 192, 159, 166]\n",
      "Smallest distance : 159\n"
     ]
    }
   ],
   "source": [
    "analyze_wire_paths(\"R75,D30,R83,U83,L12,D49,R71,U7,L72\", \"U62,R66,U55,R34,D71,R55,D58,R83\")"
   ]
  },
  {
   "cell_type": "code",
   "execution_count": 77,
   "metadata": {},
   "outputs": [
    {
     "data": {
      "image/png": "[encoded data removed]",
      "text/plain": [
       "<Figure size 432x288 with 1 Axes>"
      ]
     },
     "metadata": {
      "needs_background": "light"
     },
     "output_type": "display_data"
    },
    {
     "name": "stdout",
     "output_type": "stream",
     "text": [
      "Crossing points:  {(107, 71), (157, 18), (124, 11), (107, 47), (107, 51)}\n",
      "Distances : [178, 175, 135, 154, 158]\n",
      "Smallest distance : 135\n"
     ]
    }
   ],
   "source": [
    "analyze_wire_paths(\"R98,U47,R26,D63,R33,U87,L62,D20,R33,U53,R51\", \"U98,R91,D20,R16,D67,R40,U7,R15,U6,R7\")"
   ]
  },
  {
   "cell_type": "code",
   "execution_count": 78,
   "metadata": {},
   "outputs": [
    {
     "data": {
      "image/png": "[encoded data removed]",
      "text/plain": [
       "<Figure size 432x288 with 1 Axes>"
      ]
     },
     "metadata": {
      "needs_background": "light"
     },
     "output_type": "display_data"
    },
    {
     "name": "stdout",
     "output_type": "stream",
     "text": [
      "Crossing points:  {(365, 1795), (257, 763), (1756, 1422), (1851, 1277), (-1838, 493), (1752, 1362), (1773, 1502), (1733, 417), (1733, 823), (1266, 1857), (166, 1747), (1773, 1665), (998, 349), (257, 218), (-1051, 561), (108, 977), (1752, 1293), (-998, 233), (76, 1747), (365, 1747), (-1568, 668), (1773, 1857), (1330, 1519), (735, 1747), (1330, 1457), (-998, 561), (735, 1795), (1851, 1283), (1756, 1502), (-1978, 619), (2038, 1068), (-804, 611), (-457, 949), (2018, 1422), (-201, 1945), (264, 1795), (831, 1747), (108, 1779), (831, 1795), (1832, 823), (1968, 1750), (-125, 1747), (1236, 1519), (-369, 1977), (-1118, 493), (531, 1795), (1665, 1502), (1851, 1750), (-743, 561), (1773, 1422), (2018, 1502), (257, 946), (166, 1795), (264, 1747), (1330, 1362), (-457, 894), (1733, 389), (-138, 977), (1634, 1665), (-605, 154), (1211, 367), (-1508, 1141), (-743, 233), (-201, 1779), (1421, 367), (1634, 1857), (52, 1747), (1266, 1502), (2038, 823), (531, 1747), (1752, 1277), (1634, 1502), (-1361, 1087), (-998, 798), (1756, 1665), (-605, 561), (-67, 154), (267, 1747), (-998, 27), (-1544, 829), (108, 1596)}\n",
      "Distances : [2160, 1020, 3178, 3128, 2331, 3114, 3275, 2150, 2556, 3123, 1913, 3438, 1347, 475, 1612, 1085, 3045, 1231, 1823, 2112, 2236, 3630, 2849, 2482, 2787, 1559, 2530, 3134, 3258, 2597, 3106, 1415, 1406, 3440, 2146, 2059, 2578, 1887, 2626, 2655, 3718, 1872, 2755, 2346, 1611, 2326, 3167, 3601, 1304, 3195, 3520, 1203, 1961, 2011, 2692, 1351, 2122, 1115, 3299, 759, 1578, 2649, 976, 1980, 1788, 3491, 1799, 2768, 2861, 2278, 3029, 3136, 2448, 1796, 3421, 1166, 221, 2014, 1025, 2373, 1704]\n",
      "Smallest distance : 221\n"
     ]
    }
   ],
   "source": [
    "analyze_wire_paths(\n",
    "    \"R998,U367,R735,U926,R23,U457,R262,D473,L353,U242,L930,U895,R321,U683,L333,U623,R105,D527,R437,D473,L100,D251,L958,U384,R655,U543,L704,D759,R529,D176,R835,U797,R453,D650,L801,U437,L468,D841,R928,D747,L803,U677,R942,D851,R265,D684,L206,U763,L566,U774,L517,U337,L86,D585,R212,U656,L799,D953,L24,U388,L465,U656,L467,U649,R658,U519,L966,D290,L979,D819,R208,D907,R941,D458,L882,U408,R539,D939,R557,D771,L448,U460,L586,U148,R678,U360,R715,U312,L12,D746,L958,U216,R275,D278,L368,U663,L60,D543,L605,D991,L369,D599,R464,D387,L835,D876,L810,U377,L521,U113,L803,U680,L732,D449,R891,D558,L25,U249,L264,U643,L544,U504,R876,U403,R950,U19,L224,D287,R28,U914,R906,U970,R335,U295,R841,D810,R891,D596,R451,D79,R924,U823,L724,U968,R342,D349,R656,U373,R864,U374,L401,D102,L730,D886,R268,D188,R621,U258,L788,U408,L199,D422,R101,U368,L636,U543,R7,U722,L533,U242,L340,D195,R158,D291,L84,U936,L570,D937,L321,U947,L707,U32,L56,U650,L427,U490,L472,U258,R694,U87,L887,U575,R826,D398,R602,U794,R855,U225,R435,U591,L58,U281,L834,D400,R89,D201,L328,U278,L494,D70,L770,D182,L251,D44,R753,U431,R573,D71,R809,U983,L159,U26,R540,U516,R5,D23,L603,U65,L260,D187,R973,U877,R110,U49,L502,D68,R32,U153,R495,D315,R720,D439,R264,D603,R717,U586,R732,D111,R997,U578,L243,U256,R147,D425,L141,U758,R451,U779,R964,D219,L151,D789,L496,D484,R627,D431,R433,D761,R355,U975,L983,U364,L200,U578,L488,U668,L48,D774,R438,D456,L819,D927,R831,D598,L437,U979,R686,U930,L454,D553,L77,D955,L98,U201,L724,U211,R501,U492,L495,U732,L511\",\n",
    "    \"L998,U949,R912,D186,R359,D694,L878,U542,L446,D118,L927,U175,R434,U473,R147,D54,R896,U890,R300,D537,R254,D322,R758,D690,R231,U269,R288,U968,R638,U192,L732,D355,R879,U451,R336,D872,L141,D842,L126,U584,L973,D940,R890,D75,L104,U340,L821,D590,R577,U859,L948,D199,L872,D751,L368,U506,L308,U827,R181,U94,R670,U901,R739,D48,L985,D801,R722,D597,R654,D606,R183,U646,R939,U677,R32,U936,L541,D934,R316,U354,L415,D930,R572,U571,R147,D609,L534,D406,R872,D527,L816,D960,R652,D429,L402,D858,R374,D930,L81,U106,R977,U251,R917,U966,R353,U732,L613,U280,L713,D937,R481,U52,R746,U203,L500,D557,L209,U249,R89,D58,L149,U872,R331,D460,R343,D423,R392,D160,L876,U981,L399,D642,R525,U515,L537,U113,R886,D516,L301,D680,L236,U399,R460,D869,L942,D280,R669,U476,R683,D97,R199,D444,R137,D489,L704,D120,R753,D100,L737,U375,L495,D325,R48,D269,R575,U895,L184,D10,L502,D610,R618,D744,R585,U861,R695,D775,L942,U64,L819,U161,L332,U513,L461,D366,R273,D493,L197,D97,L6,U63,L564,U59,L699,U30,L68,U861,R35,U564,R540,U371,L115,D595,L412,D781,L185,D41,R207,D264,R999,D799,R421,D117,R377,D571,R268,D947,R77,D2,R712,D600,L516,U389,L868,D762,L996,U205,L178,D339,L844,D629,R67,D732,R109,D858,R630,U470,L121,D542,L751,U353,L61,U770,R952,U703,R264,D537,L569,U55,L795,U389,R836,U166,R585,U275,L734,U966,L130,D357,L260,U719,L647,D606,R547,U575,R791,U686,L597,D486,L774,U386,L163,U912,L234,D238,L948,U279,R789,U300,R117,D28,L833,U835,L340,U693,R343,D573,R882,D241,L731,U812,R600,D663,R902,U402,R831,D802,L577,U920,L947,D538,L192\"\n",
    ")"
   ]
  },
  {
   "cell_type": "markdown",
   "metadata": {},
   "source": [
    "## Problem 2\n",
    "\n",
    "It turns out that this circuit is very timing-sensitive; you actually need to minimize the signal delay.\n",
    "\n",
    "To do this, calculate the number of steps each wire takes to reach each intersection; choose the intersection where the sum of both wires' steps is lowest. If a wire visits a position on the grid multiple times, use the steps value from the first time it visits that position when calculating the total value of a specific intersection.\n",
    "\n",
    "The number of steps a wire takes is the total number of grid squares the wire has entered to get to that location, including the intersection being considered. Again consider the example from above:\n",
    "\n",
    "```\n",
    "...........\n",
    ".+-----+...\n",
    ".|.....|...\n",
    ".|..+--X-+.\n",
    ".|..|..|.|.\n",
    ".|.-X--+.|.\n",
    ".|..|....|.\n",
    ".|.......|.\n",
    ".o-------+.\n",
    "...........\n",
    "```\n",
    "\n",
    "In the above example, the intersection closest to the central port is reached after 8+5+5+2 = 20 steps by the first wire and 7+6+4+3 = 20 steps by the second wire for a total of 20+20 = 40 steps.\n",
    "\n",
    "However, the top-right intersection is better: the first wire takes only 8+5+2 = 15 and the second wire takes only 7+6+2 = 15, a total of 15+15 = 30 steps.\n",
    "\n",
    "Here are the best steps for the extra examples from above:\n",
    "\n",
    "- R75,D30,R83,U83,L12,D49,R71,U7,L72\n",
    "- U62,R66,U55,R34,D71,R55,D58,R83 = 610 steps\n",
    "- R98,U47,R26,D63,R33,U87,L62,D20,R33,U53,R51\n",
    "- U98,R91,D20,R16,D67,R40,U7,R15,U6,R7 = 410 steps"
   ]
  },
  {
   "cell_type": "code",
   "execution_count": 80,
   "metadata": {},
   "outputs": [
    {
     "data": {
      "image/png": "[encoded data removed]",
      "text/plain": [
       "<Figure size 432x288 with 1 Axes>"
      ]
     },
     "metadata": {
      "needs_background": "light"
     },
     "output_type": "display_data"
    },
    {
     "name": "stdout",
     "output_type": "stream",
     "text": [
      "Crossing points:  {(3, 3), (6, 5)}\n",
      "Distances : [40, 30]\n",
      "Smallest distance : 30\n"
     ]
    }
   ],
   "source": [
    "def analyze_wire_paths_2(a, b):\n",
    "    a = wire_path(a)\n",
    "    b = wire_path(b)\n",
    "    plot_wire_path(a)\n",
    "    plot_wire_path(b)\n",
    "    plt.show()\n",
    "    intersections = wire_path_intersections(a, b)\n",
    "    print(\"Crossing points: \", intersections)\n",
    "    distances = [(a.index(i) + 1 + b.index(i) + 1) for i in intersections]\n",
    "    print(\"Distances :\", distances)\n",
    "    print(\"Smallest distance :\", min(distances))\n",
    "    \n",
    "analyze_wire_paths_2(\"R8,U5,L5,D3\", \"U7,R6,D4,L4\")"
   ]
  },
  {
   "cell_type": "code",
   "execution_count": 81,
   "metadata": {},
   "outputs": [
    {
     "data": {
      "image/png": "[encoded data removed]",
      "text/plain": [
       "<Figure size 432x288 with 1 Axes>"
      ]
     },
     "metadata": {
      "needs_background": "light"
     },
     "output_type": "display_data"
    },
    {
     "name": "stdout",
     "output_type": "stream",
     "text": [
      "Crossing points:  {(158, -12), (146, 46), (155, 4), (155, 11)}\n",
      "Distances : [610, 624, 726, 850]\n",
      "Smallest distance : 610\n"
     ]
    }
   ],
   "source": [
    "analyze_wire_paths_2(\"R75,D30,R83,U83,L12,D49,R71,U7,L72\", \"U62,R66,U55,R34,D71,R55,D58,R83\")"
   ]
  },
  {
   "cell_type": "code",
   "execution_count": 82,
   "metadata": {},
   "outputs": [
    {
     "data": {
      "image/png": "[encoded data removed]",
      "text/plain": [
       "<Figure size 432x288 with 1 Axes>"
      ]
     },
     "metadata": {
      "needs_background": "light"
     },
     "output_type": "display_data"
    },
    {
     "name": "stdout",
     "output_type": "stream",
     "text": [
      "Crossing points:  {(107, 71), (157, 18), (124, 11), (107, 47), (107, 51)}\n",
      "Distances : [636, 650, 516, 410, 700]\n",
      "Smallest distance : 410\n"
     ]
    }
   ],
   "source": [
    "analyze_wire_paths_2(\"R98,U47,R26,D63,R33,U87,L62,D20,R33,U53,R51\", \"U98,R91,D20,R16,D67,R40,U7,R15,U6,R7\")"
   ]
  },
  {
   "cell_type": "code",
   "execution_count": 83,
   "metadata": {},
   "outputs": [
    {
     "data": {
      "image/png": "[encoded data removed]",
      "text/plain": [
       "<Figure size 432x288 with 1 Axes>"
      ]
     },
     "metadata": {
      "needs_background": "light"
     },
     "output_type": "display_data"
    },
    {
     "name": "stdout",
     "output_type": "stream",
     "text": [
      "Crossing points:  {(365, 1795), (257, 763), (1756, 1422), (1851, 1277), (-1838, 493), (1752, 1362), (1773, 1502), (1733, 417), (1733, 823), (1266, 1857), (166, 1747), (1773, 1665), (998, 349), (257, 218), (-1051, 561), (108, 977), (1752, 1293), (-998, 233), (76, 1747), (365, 1747), (-1568, 668), (1773, 1857), (1330, 1519), (735, 1747), (1330, 1457), (-998, 561), (735, 1795), (1851, 1283), (1756, 1502), (-1978, 619), (2038, 1068), (-804, 611), (-457, 949), (2018, 1422), (-201, 1945), (264, 1795), (831, 1747), (108, 1779), (831, 1795), (1832, 823), (1968, 1750), (-125, 1747), (1236, 1519), (-369, 1977), (-1118, 493), (531, 1795), (1665, 1502), (1851, 1750), (-743, 561), (1773, 1422), (2018, 1502), (257, 946), (166, 1795), (264, 1747), (1330, 1362), (-457, 894), (1733, 389), (-138, 977), (1634, 1665), (-605, 154), (1211, 367), (-1508, 1141), (-743, 233), (-201, 1779), (1421, 367), (1634, 1857), (52, 1747), (1266, 1502), (2038, 823), (531, 1747), (1752, 1277), (1634, 1502), (-1361, 1087), (-998, 798), (1756, 1665), (-605, 561), (-67, 154), (267, 1747), (-998, 27), (-1544, 829), (108, 1596)}\n",
      "Distances : [122238, 82256, 47936, 47876, 54714, 72272, 42382, 29182, 23850, 44658, 123772, 40208, 39290, 107030, 57418, 112050, 47936, 78156, 67894, 123202, 61716, 40598, 19720, 40530, 36970, 52910, 40306, 68992, 20390, 61716, 69796, 51478, 52910, 48592, 91450, 119204, 57712, 123252, 57680, 48026, 19136, 116710, 21860, 100516, 82694, 116380, 21860, 46596, 82648, 70054, 21410, 115656, 122314, 120466, 42264, 82648, 42052, 115656, 36970, 82458, 23850, 61674, 108404, 100516, 41384, 37638, 68254, 44718, 47166, 117012, 49414, 39144, 53056, 47176, 18542, 56426, 107030, 124444, 47564, 83562, 115136]\n",
      "Smallest distance : 18542\n"
     ]
    }
   ],
   "source": [
    "analyze_wire_paths_2(\n",
    "    \"R998,U367,R735,U926,R23,U457,R262,D473,L353,U242,L930,U895,R321,U683,L333,U623,R105,D527,R437,D473,L100,D251,L958,U384,R655,U543,L704,D759,R529,D176,R835,U797,R453,D650,L801,U437,L468,D841,R928,D747,L803,U677,R942,D851,R265,D684,L206,U763,L566,U774,L517,U337,L86,D585,R212,U656,L799,D953,L24,U388,L465,U656,L467,U649,R658,U519,L966,D290,L979,D819,R208,D907,R941,D458,L882,U408,R539,D939,R557,D771,L448,U460,L586,U148,R678,U360,R715,U312,L12,D746,L958,U216,R275,D278,L368,U663,L60,D543,L605,D991,L369,D599,R464,D387,L835,D876,L810,U377,L521,U113,L803,U680,L732,D449,R891,D558,L25,U249,L264,U643,L544,U504,R876,U403,R950,U19,L224,D287,R28,U914,R906,U970,R335,U295,R841,D810,R891,D596,R451,D79,R924,U823,L724,U968,R342,D349,R656,U373,R864,U374,L401,D102,L730,D886,R268,D188,R621,U258,L788,U408,L199,D422,R101,U368,L636,U543,R7,U722,L533,U242,L340,D195,R158,D291,L84,U936,L570,D937,L321,U947,L707,U32,L56,U650,L427,U490,L472,U258,R694,U87,L887,U575,R826,D398,R602,U794,R855,U225,R435,U591,L58,U281,L834,D400,R89,D201,L328,U278,L494,D70,L770,D182,L251,D44,R753,U431,R573,D71,R809,U983,L159,U26,R540,U516,R5,D23,L603,U65,L260,D187,R973,U877,R110,U49,L502,D68,R32,U153,R495,D315,R720,D439,R264,D603,R717,U586,R732,D111,R997,U578,L243,U256,R147,D425,L141,U758,R451,U779,R964,D219,L151,D789,L496,D484,R627,D431,R433,D761,R355,U975,L983,U364,L200,U578,L488,U668,L48,D774,R438,D456,L819,D927,R831,D598,L437,U979,R686,U930,L454,D553,L77,D955,L98,U201,L724,U211,R501,U492,L495,U732,L511\",\n",
    "    \"L998,U949,R912,D186,R359,D694,L878,U542,L446,D118,L927,U175,R434,U473,R147,D54,R896,U890,R300,D537,R254,D322,R758,D690,R231,U269,R288,U968,R638,U192,L732,D355,R879,U451,R336,D872,L141,D842,L126,U584,L973,D940,R890,D75,L104,U340,L821,D590,R577,U859,L948,D199,L872,D751,L368,U506,L308,U827,R181,U94,R670,U901,R739,D48,L985,D801,R722,D597,R654,D606,R183,U646,R939,U677,R32,U936,L541,D934,R316,U354,L415,D930,R572,U571,R147,D609,L534,D406,R872,D527,L816,D960,R652,D429,L402,D858,R374,D930,L81,U106,R977,U251,R917,U966,R353,U732,L613,U280,L713,D937,R481,U52,R746,U203,L500,D557,L209,U249,R89,D58,L149,U872,R331,D460,R343,D423,R392,D160,L876,U981,L399,D642,R525,U515,L537,U113,R886,D516,L301,D680,L236,U399,R460,D869,L942,D280,R669,U476,R683,D97,R199,D444,R137,D489,L704,D120,R753,D100,L737,U375,L495,D325,R48,D269,R575,U895,L184,D10,L502,D610,R618,D744,R585,U861,R695,D775,L942,U64,L819,U161,L332,U513,L461,D366,R273,D493,L197,D97,L6,U63,L564,U59,L699,U30,L68,U861,R35,U564,R540,U371,L115,D595,L412,D781,L185,D41,R207,D264,R999,D799,R421,D117,R377,D571,R268,D947,R77,D2,R712,D600,L516,U389,L868,D762,L996,U205,L178,D339,L844,D629,R67,D732,R109,D858,R630,U470,L121,D542,L751,U353,L61,U770,R952,U703,R264,D537,L569,U55,L795,U389,R836,U166,R585,U275,L734,U966,L130,D357,L260,U719,L647,D606,R547,U575,R791,U686,L597,D486,L774,U386,L163,U912,L234,D238,L948,U279,R789,U300,R117,D28,L833,U835,L340,U693,R343,D573,R882,D241,L731,U812,R600,D663,R902,U402,R831,D802,L577,U920,L947,D538,L192\"\n",
    ")"
   ]
  },
  {
   "cell_type": "markdown",
   "metadata": {},
   "source": [
    "# Day 4: Secure Container\n",
    "\n",
    "## Problem 1\n",
    "\n",
    "You arrive at the Venus fuel depot only to discover it's protected by a password. The Elves had written the password on a sticky note, but someone threw it out.\n",
    "\n",
    "However, they do remember a few key facts about the password:\n",
    "\n",
    "- It is a six-digit number.\n",
    "- The value is within the range given in your puzzle input.\n",
    "- Two adjacent digits are the same (like 22 in 122345).\n",
    "- Going from left to right, the digits never decrease; they only ever increase or stay the same (like 111123 or 135679).\n",
    "\n",
    "Other than the range rule, the following are true:\n",
    "\n",
    "- 111111 meets these criteria (double 11, never decreases).\n",
    "- 223450 does not meet these criteria (decreasing pair of digits 50).\n",
    "- 123789 does not meet these criteria (no double).\n",
    "\n",
    "How many different passwords within the range given in your puzzle input meet these criteria?\n",
    "\n",
    "Your puzzle input is 272091-815432."
   ]
  },
  {
   "cell_type": "code",
   "execution_count": 87,
   "metadata": {},
   "outputs": [
    {
     "name": "stdout",
     "output_type": "stream",
     "text": [
      "111111 True\n",
      "223450 False\n",
      "123789 False\n"
     ]
    }
   ],
   "source": [
    "def has_two_equal_adjacent_digits(x):\n",
    "    prev = \"\"\n",
    "    for c in x:\n",
    "        if c == prev:\n",
    "            return True\n",
    "        else:\n",
    "            prev = c\n",
    "    return False\n",
    "\n",
    "def digits_only_increase(x):\n",
    "    prev = 0\n",
    "    for c in x:\n",
    "        i = int(c)\n",
    "        if i < prev:\n",
    "            return False\n",
    "        else:\n",
    "            prev = i\n",
    "    return True\n",
    "\n",
    "def is_valid_password(x):\n",
    "    return (\n",
    "        len(x) == 6 and\n",
    "        has_two_equal_adjacent_digits(x) and\n",
    "        digits_only_increase(x)\n",
    "    )\n",
    "    \n",
    "print(111111, is_valid_password(\"111111\"))\n",
    "print(223450, is_valid_password(\"223450\"))\n",
    "print(123789, is_valid_password(\"123789\"))"
   ]
  },
  {
   "cell_type": "code",
   "execution_count": 89,
   "metadata": {},
   "outputs": [
    {
     "name": "stdout",
     "output_type": "stream",
     "text": [
      "[277777, 277778, 277779, 277788, 277789, 277799, 277888, 277889, 277899, 277999, 278888, 278889, 278899, 278999, 279999, 288888, 288889, 288899, 288999, 289999, 299999, 333333, 333334, 333335, 333336, 333337, 333338, 333339, 333344, 333345, 333346, 333347, 333348, 333349, 333355, 333356, 333357, 333358, 333359, 333366, 333367, 333368, 333369, 333377, 333378, 333379, 333388, 333389, 333399, 333444, 333445, 333446, 333447, 333448, 333449, 333455, 333456, 333457, 333458, 333459, 333466, 333467, 333468, 333469, 333477, 333478, 333479, 333488, 333489, 333499, 333555, 333556, 333557, 333558, 333559, 333566, 333567, 333568, 333569, 333577, 333578, 333579, 333588, 333589, 333599, 333666, 333667, 333668, 333669, 333677, 333678, 333679, 333688, 333689, 333699, 333777, 333778, 333779, 333788, 333789, 333799, 333888, 333889, 333899, 333999, 334444, 334445, 334446, 334447, 334448, 334449, 334455, 334456, 334457, 334458, 334459, 334466, 334467, 334468, 334469, 334477, 334478, 334479, 334488, 334489, 334499, 334555, 334556, 334557, 334558, 334559, 334566, 334567, 334568, 334569, 334577, 334578, 334579, 334588, 334589, 334599, 334666, 334667, 334668, 334669, 334677, 334678, 334679, 334688, 334689, 334699, 334777, 334778, 334779, 334788, 334789, 334799, 334888, 334889, 334899, 334999, 335555, 335556, 335557, 335558, 335559, 335566, 335567, 335568, 335569, 335577, 335578, 335579, 335588, 335589, 335599, 335666, 335667, 335668, 335669, 335677, 335678, 335679, 335688, 335689, 335699, 335777, 335778, 335779, 335788, 335789, 335799, 335888, 335889, 335899, 335999, 336666, 336667, 336668, 336669, 336677, 336678, 336679, 336688, 336689, 336699, 336777, 336778, 336779, 336788, 336789, 336799, 336888, 336889, 336899, 336999, 337777, 337778, 337779, 337788, 337789, 337799, 337888, 337889, 337899, 337999, 338888, 338889, 338899, 338999, 339999, 344444, 344445, 344446, 344447, 344448, 344449, 344455, 344456, 344457, 344458, 344459, 344466, 344467, 344468, 344469, 344477, 344478, 344479, 344488, 344489, 344499, 344555, 344556, 344557, 344558, 344559, 344566, 344567, 344568, 344569, 344577, 344578, 344579, 344588, 344589, 344599, 344666, 344667, 344668, 344669, 344677, 344678, 344679, 344688, 344689, 344699, 344777, 344778, 344779, 344788, 344789, 344799, 344888, 344889, 344899, 344999, 345555, 345556, 345557, 345558, 345559, 345566, 345567, 345568, 345569, 345577, 345578, 345579, 345588, 345589, 345599, 345666, 345667, 345668, 345669, 345677, 345688, 345699, 345777, 345778, 345779, 345788, 345799, 345888, 345889, 345899, 345999, 346666, 346667, 346668, 346669, 346677, 346678, 346679, 346688, 346689, 346699, 346777, 346778, 346779, 346788, 346799, 346888, 346889, 346899, 346999, 347777, 347778, 347779, 347788, 347789, 347799, 347888, 347889, 347899, 347999, 348888, 348889, 348899, 348999, 349999, 355555, 355556, 355557, 355558, 355559, 355566, 355567, 355568, 355569, 355577, 355578, 355579, 355588, 355589, 355599, 355666, 355667, 355668, 355669, 355677, 355678, 355679, 355688, 355689, 355699, 355777, 355778, 355779, 355788, 355789, 355799, 355888, 355889, 355899, 355999, 356666, 356667, 356668, 356669, 356677, 356678, 356679, 356688, 356689, 356699, 356777, 356778, 356779, 356788, 356799, 356888, 356889, 356899, 356999, 357777, 357778, 357779, 357788, 357789, 357799, 357888, 357889, 357899, 357999, 358888, 358889, 358899, 358999, 359999, 366666, 366667, 366668, 366669, 366677, 366678, 366679, 366688, 366689, 366699, 366777, 366778, 366779, 366788, 366789, 366799, 366888, 366889, 366899, 366999, 367777, 367778, 367779, 367788, 367789, 367799, 367888, 367889, 367899, 367999, 368888, 368889, 368899, 368999, 369999, 377777, 377778, 377779, 377788, 377789, 377799, 377888, 377889, 377899, 377999, 378888, 378889, 378899, 378999, 379999, 388888, 388889, 388899, 388999, 389999, 399999, 444444, 444445, 444446, 444447, 444448, 444449, 444455, 444456, 444457, 444458, 444459, 444466, 444467, 444468, 444469, 444477, 444478, 444479, 444488, 444489, 444499, 444555, 444556, 444557, 444558, 444559, 444566, 444567, 444568, 444569, 444577, 444578, 444579, 444588, 444589, 444599, 444666, 444667, 444668, 444669, 444677, 444678, 444679, 444688, 444689, 444699, 444777, 444778, 444779, 444788, 444789, 444799, 444888, 444889, 444899, 444999, 445555, 445556, 445557, 445558, 445559, 445566, 445567, 445568, 445569, 445577, 445578, 445579, 445588, 445589, 445599, 445666, 445667, 445668, 445669, 445677, 445678, 445679, 445688, 445689, 445699, 445777, 445778, 445779, 445788, 445789, 445799, 445888, 445889, 445899, 445999, 446666, 446667, 446668, 446669, 446677, 446678, 446679, 446688, 446689, 446699, 446777, 446778, 446779, 446788, 446789, 446799, 446888, 446889, 446899, 446999, 447777, 447778, 447779, 447788, 447789, 447799, 447888, 447889, 447899, 447999, 448888, 448889, 448899, 448999, 449999, 455555, 455556, 455557, 455558, 455559, 455566, 455567, 455568, 455569, 455577, 455578, 455579, 455588, 455589, 455599, 455666, 455667, 455668, 455669, 455677, 455678, 455679, 455688, 455689, 455699, 455777, 455778, 455779, 455788, 455789, 455799, 455888, 455889, 455899, 455999, 456666, 456667, 456668, 456669, 456677, 456678, 456679, 456688, 456689, 456699, 456777, 456778, 456779, 456788, 456799, 456888, 456889, 456899, 456999, 457777, 457778, 457779, 457788, 457789, 457799, 457888, 457889, 457899, 457999, 458888, 458889, 458899, 458999, 459999, 466666, 466667, 466668, 466669, 466677, 466678, 466679, 466688, 466689, 466699, 466777, 466778, 466779, 466788, 466789, 466799, 466888, 466889, 466899, 466999, 467777, 467778, 467779, 467788, 467789, 467799, 467888, 467889, 467899, 467999, 468888, 468889, 468899, 468999, 469999, 477777, 477778, 477779, 477788, 477789, 477799, 477888, 477889, 477899, 477999, 478888, 478889, 478899, 478999, 479999, 488888, 488889, 488899, 488999, 489999, 499999, 555555, 555556, 555557, 555558, 555559, 555566, 555567, 555568, 555569, 555577, 555578, 555579, 555588, 555589, 555599, 555666, 555667, 555668, 555669, 555677, 555678, 555679, 555688, 555689, 555699, 555777, 555778, 555779, 555788, 555789, 555799, 555888, 555889, 555899, 555999, 556666, 556667, 556668, 556669, 556677, 556678, 556679, 556688, 556689, 556699, 556777, 556778, 556779, 556788, 556789, 556799, 556888, 556889, 556899, 556999, 557777, 557778, 557779, 557788, 557789, 557799, 557888, 557889, 557899, 557999, 558888, 558889, 558899, 558999, 559999, 566666, 566667, 566668, 566669, 566677, 566678, 566679, 566688, 566689, 566699, 566777, 566778, 566779, 566788, 566789, 566799, 566888, 566889, 566899, 566999, 567777, 567778, 567779, 567788, 567789, 567799, 567888, 567889, 567899, 567999, 568888, 568889, 568899, 568999, 569999, 577777, 577778, 577779, 577788, 577789, 577799, 577888, 577889, 577899, 577999, 578888, 578889, 578899, 578999, 579999, 588888, 588889, 588899, 588999, 589999, 599999, 666666, 666667, 666668, 666669, 666677, 666678, 666679, 666688, 666689, 666699, 666777, 666778, 666779, 666788, 666789, 666799, 666888, 666889, 666899, 666999, 667777, 667778, 667779, 667788, 667789, 667799, 667888, 667889, 667899, 667999, 668888, 668889, 668899, 668999, 669999, 677777, 677778, 677779, 677788, 677789, 677799, 677888, 677889, 677899, 677999, 678888, 678889, 678899, 678999, 679999, 688888, 688889, 688899, 688999, 689999, 699999, 777777, 777778, 777779, 777788, 777789, 777799, 777888, 777889, 777899, 777999, 778888, 778889, 778899, 778999, 779999, 788888, 788889, 788899, 788999, 789999, 799999]\n"
     ]
    },
    {
     "data": {
      "text/plain": [
       "931"
      ]
     },
     "execution_count": 89,
     "metadata": {},
     "output_type": "execute_result"
    }
   ],
   "source": [
    "valid_passwords = [candidate for candidate in range(272091, 815433) if is_valid_password(str(candidate))]\n",
    "print(valid_passwords)\n",
    "len(valid_passwords)"
   ]
  },
  {
   "cell_type": "markdown",
   "metadata": {},
   "source": [
    "## Problem 2\n",
    "\n",
    "An Elf just remembered one more important detail: the two adjacent matching digits are not part of a larger group of matching digits.\n",
    "\n",
    "Given this additional criterion, but still ignoring the range rule, the following are now true:\n",
    "\n",
    "- 112233 meets these criteria because the digits never decrease and all repeated digits are exactly two digits long.\n",
    "- 123444 no longer meets the criteria (the repeated 44 is part of a larger group of 444).\n",
    "- 111122 meets the criteria (even though 1 is repeated more than twice, it still contains a double 22).\n",
    "\n",
    "How many different passwords within the range given in your puzzle input meet all of the criteria?"
   ]
  },
  {
   "cell_type": "code",
   "execution_count": 94,
   "metadata": {},
   "outputs": [
    {
     "name": "stdout",
     "output_type": "stream",
     "text": [
      "112233 True\n",
      "123444 False\n",
      "111122 True\n"
     ]
    }
   ],
   "source": [
    "def has_two_equal_adjacent_digits_not_in_a_group(x):\n",
    "    prev = \"\"\n",
    "    state = \"no group\"\n",
    "    for c in x:\n",
    "        if c == prev:\n",
    "            if state == \"no group\":\n",
    "                state = \"group of two\"\n",
    "            else:\n",
    "                state = \"group of more than two\"\n",
    "        else:\n",
    "            if state == \"group of two\":\n",
    "                break\n",
    "            else:\n",
    "                state = \"no group\"\n",
    "        prev = c\n",
    "    return state == \"group of two\"\n",
    "\n",
    "def is_really_valid_password(x):\n",
    "    return (\n",
    "        len(x) == 6 and\n",
    "        has_two_equal_adjacent_digits_not_in_a_group(x) and\n",
    "        digits_only_increase(x)\n",
    "    )\n",
    "\n",
    "print(112233, is_really_valid_password(\"112233\"))\n",
    "print(123444, is_really_valid_password(\"123444\"))\n",
    "print(111122, is_really_valid_password(\"111122\"))"
   ]
  },
  {
   "cell_type": "code",
   "execution_count": 95,
   "metadata": {},
   "outputs": [
    {
     "name": "stdout",
     "output_type": "stream",
     "text": [
      "[277788, 277799, 277888, 277889, 277899, 277999, 278899, 288899, 288999, 333344, 333355, 333366, 333377, 333388, 333399, 333445, 333446, 333447, 333448, 333449, 333455, 333466, 333477, 333488, 333499, 333556, 333557, 333558, 333559, 333566, 333577, 333588, 333599, 333667, 333668, 333669, 333677, 333688, 333699, 333778, 333779, 333788, 333799, 333889, 333899, 334444, 334445, 334446, 334447, 334448, 334449, 334455, 334456, 334457, 334458, 334459, 334466, 334467, 334468, 334469, 334477, 334478, 334479, 334488, 334489, 334499, 334555, 334556, 334557, 334558, 334559, 334566, 334567, 334568, 334569, 334577, 334578, 334579, 334588, 334589, 334599, 334666, 334667, 334668, 334669, 334677, 334678, 334679, 334688, 334689, 334699, 334777, 334778, 334779, 334788, 334789, 334799, 334888, 334889, 334899, 334999, 335555, 335556, 335557, 335558, 335559, 335566, 335567, 335568, 335569, 335577, 335578, 335579, 335588, 335589, 335599, 335666, 335667, 335668, 335669, 335677, 335678, 335679, 335688, 335689, 335699, 335777, 335778, 335779, 335788, 335789, 335799, 335888, 335889, 335899, 335999, 336666, 336667, 336668, 336669, 336677, 336678, 336679, 336688, 336689, 336699, 336777, 336778, 336779, 336788, 336789, 336799, 336888, 336889, 336899, 336999, 337777, 337778, 337779, 337788, 337789, 337799, 337888, 337889, 337899, 337999, 338888, 338889, 338899, 338999, 339999, 344455, 344466, 344477, 344488, 344499, 344555, 344556, 344557, 344558, 344559, 344566, 344567, 344568, 344569, 344577, 344578, 344579, 344588, 344589, 344599, 344666, 344667, 344668, 344669, 344677, 344678, 344679, 344688, 344689, 344699, 344777, 344778, 344779, 344788, 344789, 344799, 344888, 344889, 344899, 344999, 345566, 345567, 345568, 345569, 345577, 345578, 345579, 345588, 345589, 345599, 345667, 345668, 345669, 345677, 345688, 345699, 345778, 345779, 345788, 345799, 345889, 345899, 346677, 346678, 346679, 346688, 346689, 346699, 346778, 346779, 346788, 346799, 346889, 346899, 347788, 347789, 347799, 347889, 347899, 348899, 355566, 355577, 355588, 355599, 355666, 355667, 355668, 355669, 355677, 355678, 355679, 355688, 355689, 355699, 355777, 355778, 355779, 355788, 355789, 355799, 355888, 355889, 355899, 355999, 356677, 356678, 356679, 356688, 356689, 356699, 356778, 356779, 356788, 356799, 356889, 356899, 357788, 357789, 357799, 357889, 357899, 358899, 366677, 366688, 366699, 366777, 366778, 366779, 366788, 366789, 366799, 366888, 366889, 366899, 366999, 367788, 367789, 367799, 367889, 367899, 368899, 377788, 377799, 377888, 377889, 377899, 377999, 378899, 388899, 388999, 444455, 444466, 444477, 444488, 444499, 444556, 444557, 444558, 444559, 444566, 444577, 444588, 444599, 444667, 444668, 444669, 444677, 444688, 444699, 444778, 444779, 444788, 444799, 444889, 444899, 445555, 445556, 445557, 445558, 445559, 445566, 445567, 445568, 445569, 445577, 445578, 445579, 445588, 445589, 445599, 445666, 445667, 445668, 445669, 445677, 445678, 445679, 445688, 445689, 445699, 445777, 445778, 445779, 445788, 445789, 445799, 445888, 445889, 445899, 445999, 446666, 446667, 446668, 446669, 446677, 446678, 446679, 446688, 446689, 446699, 446777, 446778, 446779, 446788, 446789, 446799, 446888, 446889, 446899, 446999, 447777, 447778, 447779, 447788, 447789, 447799, 447888, 447889, 447899, 447999, 448888, 448889, 448899, 448999, 449999, 455566, 455577, 455588, 455599, 455666, 455667, 455668, 455669, 455677, 455678, 455679, 455688, 455689, 455699, 455777, 455778, 455779, 455788, 455789, 455799, 455888, 455889, 455899, 455999, 456677, 456678, 456679, 456688, 456689, 456699, 456778, 456779, 456788, 456799, 456889, 456899, 457788, 457789, 457799, 457889, 457899, 458899, 466677, 466688, 466699, 466777, 466778, 466779, 466788, 466789, 466799, 466888, 466889, 466899, 466999, 467788, 467789, 467799, 467889, 467899, 468899, 477788, 477799, 477888, 477889, 477899, 477999, 478899, 488899, 488999, 555566, 555577, 555588, 555599, 555667, 555668, 555669, 555677, 555688, 555699, 555778, 555779, 555788, 555799, 555889, 555899, 556666, 556667, 556668, 556669, 556677, 556678, 556679, 556688, 556689, 556699, 556777, 556778, 556779, 556788, 556789, 556799, 556888, 556889, 556899, 556999, 557777, 557778, 557779, 557788, 557789, 557799, 557888, 557889, 557899, 557999, 558888, 558889, 558899, 558999, 559999, 566677, 566688, 566699, 566777, 566778, 566779, 566788, 566789, 566799, 566888, 566889, 566899, 566999, 567788, 567789, 567799, 567889, 567899, 568899, 577788, 577799, 577888, 577889, 577899, 577999, 578899, 588899, 588999, 666677, 666688, 666699, 666778, 666779, 666788, 666799, 666889, 666899, 667777, 667778, 667779, 667788, 667789, 667799, 667888, 667889, 667899, 667999, 668888, 668889, 668899, 668999, 669999, 677788, 677799, 677888, 677889, 677899, 677999, 678899, 688899, 688999, 777788, 777799, 777889, 777899, 778888, 778889, 778899, 778999, 779999, 788899, 788999]\n"
     ]
    },
    {
     "data": {
      "text/plain": [
       "609"
      ]
     },
     "execution_count": 95,
     "metadata": {},
     "output_type": "execute_result"
    }
   ],
   "source": [
    "valid_passwords = [candidate for candidate in range(272091, 815433) if is_really_valid_password(str(candidate))]\n",
    "print(valid_passwords)\n",
    "len(valid_passwords)"
   ]
  },
  {
   "cell_type": "markdown",
   "metadata": {},
   "source": [
    "# Day 5: Sunny with a Chance of Asteroids"
   ]
  },
  {
   "cell_type": "code",
   "execution_count": 190,
   "metadata": {},
   "outputs": [],
   "source": [
    "import inspect\n",
    "\n",
    "class PositionalParam:\n",
    "    def __init__(self, param, memory):\n",
    "        self.memory = memory\n",
    "        self.param = param\n",
    "        \n",
    "    @property\n",
    "    def val(self):\n",
    "        return self.memory[self.param]\n",
    "    \n",
    "    @val.setter\n",
    "    def val(self, val):\n",
    "        self.memory[self.param] = val\n",
    "        \n",
    "class ImmediateParam:\n",
    "    def __init__(self, param,):\n",
    "        self.param = param\n",
    "        \n",
    "    @property\n",
    "    def val(self):\n",
    "        return self.param\n",
    "    \n",
    "    @val.setter\n",
    "    def val(self, val):\n",
    "        raise TypeError('Cannot set on immediate params')\n",
    "\n",
    "class InputParam:\n",
    "    def __init__(self, input):\n",
    "        self.input_iter = iter(input)\n",
    "        \n",
    "    @property\n",
    "    def val(self):\n",
    "        return next(self.input_iter)\n",
    "    \n",
    "    @val.setter\n",
    "    def val(self, val):\n",
    "        raise TypeError('Cannot set on input params')\n",
    "        \n",
    "class GoTo(Exception):\n",
    "    def __init__(self, destination):\n",
    "        self.destination = destination\n",
    "        \n",
    "class Intcode:\n",
    "    pointer = 0\n",
    "    \n",
    "    def __init__(self, input, initial_state, instruction_set):\n",
    "        self.input = InputParam(input)\n",
    "        self.memory = initial_state\n",
    "        self.instruction_set = instruction_set\n",
    "        \n",
    "    def construct_param(self, param, mode):\n",
    "        if mode == \"0\":\n",
    "            return PositionalParam(param, self.memory)\n",
    "        elif mode == \"1\":\n",
    "            return ImmediateParam(param)\n",
    "        else:\n",
    "            raise ValueError('Unknown param mode: ' + mode)\n",
    "        \n",
    "    def __iter__(self):\n",
    "        return self\n",
    "    \n",
    "    def __next__(self):\n",
    "        op = \"{:0>2}\".format(self.memory[self.pointer])\n",
    "        opcode = int(op[-2:])\n",
    "        if opcode == 99:\n",
    "            raise StopIteration\n",
    "        for code, instruction in self.instruction_set.items():\n",
    "            if opcode == code:\n",
    "                arity = len(inspect.signature(instruction).parameters) - 1\n",
    "                param_modes = (\"{:0>\" + str(arity) + \"}\").format(op[:-2])\n",
    "                params = [self.construct_param(self.memory[self.pointer + i + 1], param_modes[-(i + 1)]) for i in range(arity)]\n",
    "                result = None\n",
    "                try:\n",
    "                    result = instruction(self.input, *params)\n",
    "                except GoTo as goto:\n",
    "                    self.pointer = goto.destination\n",
    "                else:\n",
    "                    self.pointer = self.pointer + arity + 1\n",
    "                if result != None:\n",
    "                    return result\n",
    "                else:\n",
    "                    return next(self)\n",
    "        raise ValueError('Encountered unknown opcode: ' + str(opcode))\n",
    "\n",
    "def intcode_add(i, x, y, z):\n",
    "    z.val = x.val + y.val\n",
    "    \n",
    "def intcode_multiply(i, x, y, z):\n",
    "    z.val = x.val * y.val\n",
    "    \n",
    "def intcode_save(i, x):\n",
    "    x.val = i.val\n",
    "    \n",
    "def intcode_output(i, x):\n",
    "    return x.val\n",
    "\n",
    "def intcode_jump_if_true(i, x, y):\n",
    "    if x.val != 0:\n",
    "        raise GoTo(y.val)\n",
    "        \n",
    "def intcode_jump_if_false(i, x, y):\n",
    "    if x.val == 0:\n",
    "        raise GoTo(y.val)\n",
    "        \n",
    "def intcode_less_than(i, x, y, z):\n",
    "    if x.val < y.val:\n",
    "        z.val = 1\n",
    "    else:\n",
    "        z.val = 0\n",
    "        \n",
    "def intcode_equals(i, x, y, z):\n",
    "    if x.val == y.val:\n",
    "        z.val = 1\n",
    "    else:\n",
    "        z.val = 0\n",
    "        \n",
    "instruction_set_day5 = {\n",
    "    1: intcode_add,\n",
    "    2: intcode_multiply,\n",
    "    3: intcode_save,\n",
    "    4: intcode_output,\n",
    "    5: intcode_jump_if_true,\n",
    "    6: intcode_jump_if_false,\n",
    "    7: intcode_less_than,\n",
    "    8: intcode_equals\n",
    "}"
   ]
  },
  {
   "cell_type": "code",
   "execution_count": 191,
   "metadata": {},
   "outputs": [
    {
     "data": {
      "text/plain": [
       "[1]"
      ]
     },
     "execution_count": 191,
     "metadata": {},
     "output_type": "execute_result"
    }
   ],
   "source": [
    "[x for x in Intcode([1], [3,0,4,0,99], instruction_set_day5)]"
   ]
  },
  {
   "cell_type": "code",
   "execution_count": 192,
   "metadata": {},
   "outputs": [
    {
     "data": {
      "text/plain": [
       "[]"
      ]
     },
     "execution_count": 192,
     "metadata": {},
     "output_type": "execute_result"
    }
   ],
   "source": [
    "[x for x in Intcode([1], [1002,4,3,4,33], instruction_set_day5)]"
   ]
  },
  {
   "cell_type": "code",
   "execution_count": 193,
   "metadata": {},
   "outputs": [
    {
     "data": {
      "text/plain": [
       "[0, 0, 0, 0, 0, 0, 0, 0, 0, 15314507]"
      ]
     },
     "execution_count": 193,
     "metadata": {},
     "output_type": "execute_result"
    }
   ],
   "source": [
    "[x for x in Intcode([1], [3,225,1,225,6,6,1100,1,238,225,104,0,1002,114,19,224,1001,224,-646,224,4,224,102,8,223,223,1001,224,7,224,1,223,224,223,1101,40,62,225,1101,60,38,225,1101,30,29,225,2,195,148,224,1001,224,-40,224,4,224,1002,223,8,223,101,2,224,224,1,224,223,223,1001,143,40,224,101,-125,224,224,4,224,1002,223,8,223,1001,224,3,224,1,224,223,223,101,29,139,224,1001,224,-99,224,4,224,1002,223,8,223,1001,224,2,224,1,224,223,223,1101,14,34,225,102,57,39,224,101,-3420,224,224,4,224,102,8,223,223,1001,224,7,224,1,223,224,223,1101,70,40,225,1102,85,69,225,1102,94,5,225,1,36,43,224,101,-92,224,224,4,224,1002,223,8,223,101,1,224,224,1,224,223,223,1102,94,24,224,1001,224,-2256,224,4,224,102,8,223,223,1001,224,1,224,1,223,224,223,1102,8,13,225,1101,36,65,224,1001,224,-101,224,4,224,102,8,223,223,101,3,224,224,1,223,224,223,4,223,99,0,0,0,677,0,0,0,0,0,0,0,0,0,0,0,1105,0,99999,1105,227,247,1105,1,99999,1005,227,99999,1005,0,256,1105,1,99999,1106,227,99999,1106,0,265,1105,1,99999,1006,0,99999,1006,227,274,1105,1,99999,1105,1,280,1105,1,99999,1,225,225,225,1101,294,0,0,105,1,0,1105,1,99999,1106,0,300,1105,1,99999,1,225,225,225,1101,314,0,0,106,0,0,1105,1,99999,8,677,226,224,1002,223,2,223,1006,224,329,1001,223,1,223,1108,226,226,224,1002,223,2,223,1005,224,344,101,1,223,223,1108,226,677,224,1002,223,2,223,1006,224,359,101,1,223,223,107,226,226,224,1002,223,2,223,1005,224,374,101,1,223,223,1107,226,226,224,1002,223,2,223,1005,224,389,101,1,223,223,107,677,677,224,102,2,223,223,1006,224,404,101,1,223,223,1008,226,226,224,1002,223,2,223,1006,224,419,101,1,223,223,108,677,226,224,1002,223,2,223,1006,224,434,101,1,223,223,1108,677,226,224,102,2,223,223,1005,224,449,101,1,223,223,1008,677,226,224,102,2,223,223,1006,224,464,1001,223,1,223,108,677,677,224,102,2,223,223,1005,224,479,101,1,223,223,7,677,677,224,102,2,223,223,1005,224,494,1001,223,1,223,8,226,677,224,102,2,223,223,1006,224,509,101,1,223,223,107,677,226,224,1002,223,2,223,1005,224,524,1001,223,1,223,7,677,226,224,1002,223,2,223,1005,224,539,1001,223,1,223,1007,226,677,224,1002,223,2,223,1005,224,554,1001,223,1,223,8,677,677,224,102,2,223,223,1006,224,569,101,1,223,223,7,226,677,224,102,2,223,223,1006,224,584,1001,223,1,223,1008,677,677,224,102,2,223,223,1005,224,599,101,1,223,223,1007,677,677,224,1002,223,2,223,1006,224,614,101,1,223,223,1107,677,226,224,1002,223,2,223,1006,224,629,101,1,223,223,1107,226,677,224,1002,223,2,223,1006,224,644,101,1,223,223,1007,226,226,224,102,2,223,223,1005,224,659,1001,223,1,223,108,226,226,224,102,2,223,223,1006,224,674,101,1,223,223,4,223,99,226], instruction_set_day5)]"
   ]
  },
  {
   "cell_type": "code",
   "execution_count": 194,
   "metadata": {},
   "outputs": [
    {
     "data": {
      "text/plain": [
       "[1000]"
      ]
     },
     "execution_count": 194,
     "metadata": {},
     "output_type": "execute_result"
    }
   ],
   "source": [
    "[x for x in Intcode([8], [3,21,1008,21,8,20,1005,20,22,107,8,21,20,1006,20,31,1106,0,36,98,0,0,1002,21,125,20,4,20,1105,1,46,104,999,1105,1,46,1101,1000,1,20,4,20,1105,1,46,98,99], instruction_set_day5)]"
   ]
  },
  {
   "cell_type": "code",
   "execution_count": 195,
   "metadata": {},
   "outputs": [
    {
     "data": {
      "text/plain": [
       "[652726]"
      ]
     },
     "execution_count": 195,
     "metadata": {},
     "output_type": "execute_result"
    }
   ],
   "source": [
    "[x for x in Intcode([5], [3,225,1,225,6,6,1100,1,238,225,104,0,1002,114,19,224,1001,224,-646,224,4,224,102,8,223,223,1001,224,7,224,1,223,224,223,1101,40,62,225,1101,60,38,225,1101,30,29,225,2,195,148,224,1001,224,-40,224,4,224,1002,223,8,223,101,2,224,224,1,224,223,223,1001,143,40,224,101,-125,224,224,4,224,1002,223,8,223,1001,224,3,224,1,224,223,223,101,29,139,224,1001,224,-99,224,4,224,1002,223,8,223,1001,224,2,224,1,224,223,223,1101,14,34,225,102,57,39,224,101,-3420,224,224,4,224,102,8,223,223,1001,224,7,224,1,223,224,223,1101,70,40,225,1102,85,69,225,1102,94,5,225,1,36,43,224,101,-92,224,224,4,224,1002,223,8,223,101,1,224,224,1,224,223,223,1102,94,24,224,1001,224,-2256,224,4,224,102,8,223,223,1001,224,1,224,1,223,224,223,1102,8,13,225,1101,36,65,224,1001,224,-101,224,4,224,102,8,223,223,101,3,224,224,1,223,224,223,4,223,99,0,0,0,677,0,0,0,0,0,0,0,0,0,0,0,1105,0,99999,1105,227,247,1105,1,99999,1005,227,99999,1005,0,256,1105,1,99999,1106,227,99999,1106,0,265,1105,1,99999,1006,0,99999,1006,227,274,1105,1,99999,1105,1,280,1105,1,99999,1,225,225,225,1101,294,0,0,105,1,0,1105,1,99999,1106,0,300,1105,1,99999,1,225,225,225,1101,314,0,0,106,0,0,1105,1,99999,8,677,226,224,1002,223,2,223,1006,224,329,1001,223,1,223,1108,226,226,224,1002,223,2,223,1005,224,344,101,1,223,223,1108,226,677,224,1002,223,2,223,1006,224,359,101,1,223,223,107,226,226,224,1002,223,2,223,1005,224,374,101,1,223,223,1107,226,226,224,1002,223,2,223,1005,224,389,101,1,223,223,107,677,677,224,102,2,223,223,1006,224,404,101,1,223,223,1008,226,226,224,1002,223,2,223,1006,224,419,101,1,223,223,108,677,226,224,1002,223,2,223,1006,224,434,101,1,223,223,1108,677,226,224,102,2,223,223,1005,224,449,101,1,223,223,1008,677,226,224,102,2,223,223,1006,224,464,1001,223,1,223,108,677,677,224,102,2,223,223,1005,224,479,101,1,223,223,7,677,677,224,102,2,223,223,1005,224,494,1001,223,1,223,8,226,677,224,102,2,223,223,1006,224,509,101,1,223,223,107,677,226,224,1002,223,2,223,1005,224,524,1001,223,1,223,7,677,226,224,1002,223,2,223,1005,224,539,1001,223,1,223,1007,226,677,224,1002,223,2,223,1005,224,554,1001,223,1,223,8,677,677,224,102,2,223,223,1006,224,569,101,1,223,223,7,226,677,224,102,2,223,223,1006,224,584,1001,223,1,223,1008,677,677,224,102,2,223,223,1005,224,599,101,1,223,223,1007,677,677,224,1002,223,2,223,1006,224,614,101,1,223,223,1107,677,226,224,1002,223,2,223,1006,224,629,101,1,223,223,1107,226,677,224,1002,223,2,223,1006,224,644,101,1,223,223,1007,226,226,224,102,2,223,223,1005,224,659,1001,223,1,223,108,226,226,224,102,2,223,223,1006,224,674,101,1,223,223,4,223,99,226], instruction_set_day5)]"
   ]
  },
  {
   "cell_type": "markdown",
   "metadata": {},
   "source": [
    "# Day 6: Universal Orbit Map"
   ]
  },
  {
   "cell_type": "code",
   "execution_count": 24,
   "metadata": {},
   "outputs": [
    {
     "name": "stdout",
     "output_type": "stream",
     "text": [
      "orbital map: {'COM': None, 'B': 'COM', 'C': 'B', 'D': 'C', 'E': 'D', 'F': 'E', 'G': 'B', 'H': 'G', 'I': 'D', 'J': 'E', 'K': 'J', 'L': 'K'}\n",
      "number of total orbits:  42\n"
     ]
    }
   ],
   "source": [
    "def create_orbital_map(input):\n",
    "    map = {}\n",
    "    for orbit in input:\n",
    "        center, satellite = orbit.split(\")\")\n",
    "        if center not in map:\n",
    "            map[center] = None\n",
    "        map[satellite] = center\n",
    "    return map\n",
    "\n",
    "def calculate_number_of_orbits(map):\n",
    "    def number_of_orbits_for_satellite(x):\n",
    "        center = map[x]\n",
    "        if center == None:\n",
    "            return 0\n",
    "        else:\n",
    "            return number_of_orbits_for_satellite(center) + 1\n",
    "    return sum([number_of_orbits_for_satellite(i) for i in map.keys()])\n",
    "        \n",
    "\n",
    "test = \"\"\"\n",
    "COM)B\n",
    "B)C\n",
    "C)D\n",
    "D)E\n",
    "E)F\n",
    "B)G\n",
    "G)H\n",
    "D)I\n",
    "E)J\n",
    "J)K\n",
    "K)L\n",
    "\"\"\"\n",
    "test = [i for i in test.split(\"\\n\") if i != \"\"]\n",
    "\n",
    "test_orbital_map = create_orbital_map(test)\n",
    "print('orbital map:', test_orbital_map)\n",
    "print('number of total orbits: ', calculate_number_of_orbits(test_orbital_map))"
   ]
  },
  {
   "cell_type": "code",
   "execution_count": 31,
   "metadata": {},
   "outputs": [
    {
     "data": {
      "text/plain": [
       "117672"
      ]
     },
     "execution_count": 31,
     "metadata": {},
     "output_type": "execute_result"
    }
   ],
   "source": [
    "input = \"\"\"\n",
    "Z52)127\n",
    "271)7TV\n",
    "CJN)HYP\n",
    "TCQ)65C\n",
    "2R9)6QM\n",
    "VND)VMR\n",
    "1KM)47Y\n",
    "Z83)CGH\n",
    "8RF)17J\n",
    "Q5D)S5F\n",
    "WGK)HWX\n",
    "QZH)671\n",
    "RZ2)Z2F\n",
    "6K1)9ZH\n",
    "973)NL2\n",
    "6YN)YFY\n",
    "FCS)288\n",
    "X8D)K15\n",
    "QQY)2X8\n",
    "95J)6QQ\n",
    "W21)YN2\n",
    "ZRC)9LQ\n",
    "J23)2SW\n",
    "F9T)G7L\n",
    "GC4)5YL\n",
    "QYS)152\n",
    "9YX)5ZR\n",
    "T8Q)Z4K\n",
    "SK8)B8N\n",
    "XQH)ZVG\n",
    "XQZ)LHX\n",
    "PSM)M9M\n",
    "H1K)1WV\n",
    "P81)ZCN\n",
    "TGJ)44W\n",
    "JNL)352\n",
    "44W)2NZ\n",
    "V5D)LPJ\n",
    "VML)86P\n",
    "5CK)4FB\n",
    "53S)JKL\n",
    "TQV)HJ8\n",
    "9WS)S6K\n",
    "5S9)43T\n",
    "KKQ)KHD\n",
    "S2N)YNN\n",
    "RXB)5X6\n",
    "T4G)ND4\n",
    "9J3)JRY\n",
    "T9C)3R1\n",
    "7NF)F26\n",
    "TL7)SMJ\n",
    "521)4NS\n",
    "YXH)8Z5\n",
    "KWX)WF3\n",
    "65C)NWB\n",
    "3S7)SZ1\n",
    "288)SDL\n",
    "GWL)QLT\n",
    "CYX)6RF\n",
    "RFV)JKN\n",
    "PND)3K9\n",
    "CRT)V5D\n",
    "ZY3)2V8\n",
    "QDR)DLR\n",
    "MXS)1X7\n",
    "2KK)T44\n",
    "P2L)8B4\n",
    "GZ8)C71\n",
    "SLZ)LQV\n",
    "JTZ)WGK\n",
    "1QG)3S7\n",
    "YZN)9XL\n",
    "HKG)X8D\n",
    "RHS)VL1\n",
    "X1Z)K51\n",
    "KDP)XFP\n",
    "P6B)YL6\n",
    "237)76W\n",
    "PV1)Z1M\n",
    "DY6)GWL\n",
    "1X7)WBM\n",
    "8RF)XQZ\n",
    "DPQ)RQ4\n",
    "54D)9QW\n",
    "YNN)LQ9\n",
    "WTT)V79\n",
    "2R3)Y1J\n",
    "69B)GK3\n",
    "Q4Z)2DK\n",
    "F8R)5QG\n",
    "KD1)HGK\n",
    "J5N)9ZR\n",
    "4GR)67G\n",
    "HXT)R2T\n",
    "NDY)9YH\n",
    "QJH)62P\n",
    "SLP)JCZ\n",
    "SSS)TY9\n",
    "BCF)93Q\n",
    "CWV)SLP\n",
    "1YG)Y5C\n",
    "72D)KPT\n",
    "6FY)JK6\n",
    "WQ8)CPN\n",
    "RCN)P6B\n",
    "NBV)QJH\n",
    "G7W)P9Q\n",
    "K9B)S9G\n",
    "G8X)14T\n",
    "FTS)QLY\n",
    "LNC)T8Q\n",
    "2DK)51S\n",
    "4FT)QHB\n",
    "Z7W)KZ2\n",
    "39B)LXJ\n",
    "GNK)1PS\n",
    "BCX)D82\n",
    "FFC)6TP\n",
    "3JC)SXQ\n",
    "CTM)YXV\n",
    "3Q4)763\n",
    "L6C)YMM\n",
    "GBL)S2T\n",
    "SHB)Q3B\n",
    "GLD)NGP\n",
    "1R6)R3V\n",
    "68P)LNL\n",
    "QLT)4NJ\n",
    "CLD)7G6\n",
    "6S4)973\n",
    "JSD)7FS\n",
    "Y4P)488\n",
    "HK9)X65\n",
    "7WC)VVV\n",
    "67S)DQP\n",
    "HWX)9G7\n",
    "68M)M7T\n",
    "78F)BCF\n",
    "JCZ)X4V\n",
    "VNJ)FH2\n",
    "82Z)MNC\n",
    "3K9)7LZ\n",
    "X1P)GZ5\n",
    "PJ7)GVH\n",
    "KH7)1YG\n",
    "Z12)XG7\n",
    "DPL)PYW\n",
    "476)QKB\n",
    "SPC)794\n",
    "ZZD)LCB\n",
    "CRC)B6M\n",
    "Z9P)9YX\n",
    "2X8)GMM\n",
    "HKY)765\n",
    "VSN)G5V\n",
    "SL7)LF3\n",
    "XLP)SLZ\n",
    "8Z5)XDC\n",
    "1PS)ZKF\n",
    "CPZ)Q9J\n",
    "38V)JJX\n",
    "FF8)ZXT\n",
    "43T)4DP\n",
    "H6R)2CP\n",
    "B57)YQD\n",
    "1BT)QZH\n",
    "74M)25B\n",
    "D2F)FYK\n",
    "P9Q)Q5D\n",
    "ZZW)7V2\n",
    "F6G)ZRZ\n",
    "JK6)Y3J\n",
    "YL6)97X\n",
    "424)2CW\n",
    "NPC)8Z8\n",
    "RTC)PKX\n",
    "NH4)PND\n",
    "QLY)MXS\n",
    "Q9J)Z84\n",
    "ZRZ)GHQ\n",
    "L1M)1GF\n",
    "GBQ)N44\n",
    "JQ3)PWM\n",
    "6ZZ)K4D\n",
    "67S)RR8\n",
    "ZYM)YM1\n",
    "69K)ZP6\n",
    "TJS)HM1\n",
    "P9W)Z8V\n",
    "5NV)DZB\n",
    "KHD)Q65\n",
    "488)GH3\n",
    "TML)H2G\n",
    "C71)8HF\n",
    "P9W)ZL7\n",
    "GPM)MVP\n",
    "S6K)3BJ\n",
    "RVZ)9QB\n",
    "2PS)BW7\n",
    "NS9)V6B\n",
    "L9R)NF5\n",
    "V1S)FT5\n",
    "DPR)87B\n",
    "PZW)JVJ\n",
    "T6D)TQ5\n",
    "Z9D)THN\n",
    "JGQ)M5X\n",
    "1LY)WGR\n",
    "H8Y)6KZ\n",
    "LNL)G4X\n",
    "R3V)719\n",
    "9J7)DV9\n",
    "HG9)476\n",
    "6CP)XZS\n",
    "GZ4)VML\n",
    "V4G)LZ4\n",
    "XZS)7NK\n",
    "4LL)P81\n",
    "S9G)Q4Z\n",
    "62P)Z7F\n",
    "B4V)TGJ\n",
    "RLZ)ZFW\n",
    "3R1)TL7\n",
    "ZSX)CHL\n",
    "7FH)229\n",
    "4NS)9WS\n",
    "2C4)W2C\n",
    "ZBY)1NF\n",
    "F8Y)GZ8\n",
    "LZ4)355\n",
    "KTH)8NJ\n",
    "731)NZ1\n",
    "THN)9GD\n",
    "QV7)Z8W\n",
    "71P)CYX\n",
    "P3S)K4J\n",
    "H2G)ZWD\n",
    "XJ7)7KR\n",
    "NH4)KDK\n",
    "763)ZHP\n",
    "1Q7)W3Q\n",
    "RWJ)22Z\n",
    "VNQ)FYT\n",
    "2H9)T9C\n",
    "2QM)LXV\n",
    "BCT)M1F\n",
    "HCM)YJY\n",
    "C97)K6Q\n",
    "671)89Z\n",
    "9QB)14P\n",
    "T5T)GDQ\n",
    "76W)3ZN\n",
    "ZFT)GL2\n",
    "FVJ)T9D\n",
    "794)J9J\n",
    "86P)F5M\n",
    "FN7)FRX\n",
    "ZQ9)1F6\n",
    "8B4)2N6\n",
    "ZVG)781\n",
    "S2T)JYM\n",
    "LPJ)R4Y\n",
    "Y4P)W34\n",
    "6RF)MG1\n",
    "ZCL)67L\n",
    "P81)CJK\n",
    "M1F)QFD\n",
    "Z63)RZ2\n",
    "GZ5)731\n",
    "R2T)KDT\n",
    "TTZ)9S5\n",
    "4DP)128\n",
    "78F)ZY3\n",
    "SZ1)T6D\n",
    "TR4)BSW\n",
    "FQ6)FHT\n",
    "Y1Y)PHY\n",
    "TDC)85T\n",
    "853)DZL\n",
    "152)TML\n",
    "6KZ)QYS\n",
    "SXQ)6WT\n",
    "B8N)4JF\n",
    "6X3)J23\n",
    "XZP)68P\n",
    "F5M)DPR\n",
    "FH2)7NF\n",
    "8R6)18X\n",
    "DJJ)W1W\n",
    "WF3)GLD\n",
    "BL6)2MQ\n",
    "79G)PJ7\n",
    "TBM)JTZ\n",
    "TQJ)424\n",
    "W6J)642\n",
    "FH9)1KM\n",
    "128)SK8\n",
    "KX6)64R\n",
    "5M9)XQ9\n",
    "LQV)R2N\n",
    "ZW3)FYJ\n",
    "9PR)5NY\n",
    "6YN)NCV\n",
    "XP8)8W9\n",
    "XV7)4J2\n",
    "XTD)GR6\n",
    "4TB)RJ4\n",
    "KPT)B57\n",
    "HXC)5HD\n",
    "LNC)WMK\n",
    "7LZ)NS9\n",
    "HM1)9SY\n",
    "WSL)CDZ\n",
    "V1V)Z63\n",
    "WGR)81T\n",
    "2YF)ZK9\n",
    "S5Q)34X\n",
    "TGX)TQJ\n",
    "LNQ)LLD\n",
    "PVM)JF3\n",
    "HKP)PV1\n",
    "FQC)SK1\n",
    "F26)GCT\n",
    "GH3)ZDP\n",
    "WFC)8V4\n",
    "RX5)6W4\n",
    "14P)H1K\n",
    "RR8)GV7\n",
    "R12)W69\n",
    "YS2)X4J\n",
    "TLV)LCJ\n",
    "29X)PSM\n",
    "K15)PMQ\n",
    "HF4)XTC\n",
    "3GN)W42\n",
    "D6J)H7F\n",
    "JF3)562\n",
    "89Z)2KK\n",
    "WMS)WTZ\n",
    "7YV)FH9\n",
    "229)QNR\n",
    "9XL)PQQ\n",
    "S6H)7KF\n",
    "DQP)HG9\n",
    "87B)LGW\n",
    "SK1)GYB\n",
    "Z9S)6SP\n",
    "RZ4)TQV\n",
    "562)5KN\n",
    "V5X)GBL\n",
    "N7H)XWL\n",
    "9YH)Y1Y\n",
    "N44)2QM\n",
    "NSX)DL1\n",
    "KDT)7Q6\n",
    "CNH)QXY\n",
    "HLL)R7Z\n",
    "JV8)RVZ\n",
    "16X)DY6\n",
    "14T)38V\n",
    "LCJ)ZYM\n",
    "6WT)RHS\n",
    "2KS)MZM\n",
    "KV9)FJ1\n",
    "SDH)521\n",
    "8LZ)8Q4\n",
    "9ZH)F8R\n",
    "9ZR)B9X\n",
    "4FR)XJ7\n",
    "FRX)39B\n",
    "L6N)BX2\n",
    "TQ5)3RG\n",
    "PRN)HHQ\n",
    "GMX)413\n",
    "DZL)6YN\n",
    "S2N)NR8\n",
    "6SP)16V\n",
    "RTC)XTD\n",
    "7KR)L1B\n",
    "355)W71\n",
    "ZPD)QDR\n",
    "BW3)3FF\n",
    "YJY)8R6\n",
    "W9N)GBQ\n",
    "D2M)7GG\n",
    "DWV)HYQ\n",
    "6TM)8XR\n",
    "FYV)628\n",
    "CJK)C5X\n",
    "FYJ)J1C\n",
    "2CP)23F\n",
    "51S)ZCL\n",
    "9LQ)L1M\n",
    "RHS)L9R\n",
    "QGJ)HXC\n",
    "4ZY)PJR\n",
    "1KL)QQY\n",
    "FZV)BJF\n",
    "1YL)54D\n",
    "NLP)TJS\n",
    "1KM)D39\n",
    "91W)6X3\n",
    "8PX)13W\n",
    "ZP6)RCN\n",
    "K5H)CRC\n",
    "RP7)1XK\n",
    "4L2)4D1\n",
    "F4V)GZ4\n",
    "8XF)42D\n",
    "HCM)389\n",
    "H28)RJC\n",
    "389)CWT\n",
    "XKB)4FR\n",
    "JKL)P92\n",
    "FT5)54H\n",
    "C1Z)67S\n",
    "LRC)4LL\n",
    "QBV)4V7\n",
    "TTR)19L\n",
    "PS6)38X\n",
    "M5X)DBQ\n",
    "L1B)S5Q\n",
    "D9T)2R3\n",
    "WVQ)JSD\n",
    "9GD)7YV\n",
    "MG1)L86\n",
    "PCZ)F4V\n",
    "WJV)M99\n",
    "K4J)GHX\n",
    "Q3B)R25\n",
    "D82)TXX\n",
    "6JK)CHM\n",
    "ZXT)HK9\n",
    "V79)HPW\n",
    "M7T)53S\n",
    "Z21)XZX\n",
    "R25)D6J\n",
    "W8S)2YF\n",
    "VBF)RXB\n",
    "X4J)FQ6\n",
    "352)M1Z\n",
    "JTF)MSF\n",
    "CMY)GMX\n",
    "9SY)CXS\n",
    "BX2)72D\n",
    "422)MP7\n",
    "RJC)6BD\n",
    "MVP)WQ8\n",
    "ZFW)Z7W\n",
    "XDY)TDC\n",
    "3K9)W6J\n",
    "LV7)WYN\n",
    "YFY)158\n",
    "Z84)HCM\n",
    "9S5)C1Z\n",
    "DBQ)FQC\n",
    "YV7)N5Z\n",
    "LGW)34Q\n",
    "MNC)V5X\n",
    "NHG)XGZ\n",
    "Z4K)YYP\n",
    "2MQ)79T\n",
    "44V)VG5\n",
    "8W9)BG4\n",
    "FYV)RQQ\n",
    "979)K9B\n",
    "YXK)HLX\n",
    "W9X)PZW\n",
    "PLD)PW8\n",
    "XQ9)TR5\n",
    "C16)77Q\n",
    "XWL)P2L\n",
    "4J2)C16\n",
    "38Y)Z83\n",
    "53G)F6G\n",
    "GV7)NC8\n",
    "277)B73\n",
    "WJR)Y4P\n",
    "781)FFH\n",
    "5HD)46Q\n",
    "WDV)HKY\n",
    "M1Z)J1Y\n",
    "4V7)QFJ\n",
    "CLL)ZPD\n",
    "G2P)2WN\n",
    "3ZN)QCT\n",
    "YTQ)LV7\n",
    "JVJ)1WW\n",
    "1WV)5V1\n",
    "V1X)8VN\n",
    "4QK)4ZY\n",
    "CDZ)TTR\n",
    "M9M)WCV\n",
    "XDC)7SR\n",
    "TR4)WMS\n",
    "4FB)Z9P\n",
    "QTZ)4K2\n",
    "Z2F)KHT\n",
    "CLK)JK4\n",
    "MN5)Z9S\n",
    "4PN)HK5\n",
    "COM)8RF\n",
    "DVY)HJV\n",
    "4TL)MYK\n",
    "7TB)3JC\n",
    "KWJ)QBV\n",
    "4JF)3PZ\n",
    "X4G)78F\n",
    "XLQ)ZM5\n",
    "BSW)YOU\n",
    "4RG)MWX\n",
    "79T)JV8\n",
    "2SW)S2F\n",
    "R4Y)RSQ\n",
    "6Y4)5S9\n",
    "23F)NDY\n",
    "182)M32\n",
    "ZHP)V1V\n",
    "MP7)KWJ\n",
    "V5X)L6N\n",
    "L6C)M19\n",
    "642)SL7\n",
    "Z1M)V1X\n",
    "GYH)F95\n",
    "FH2)5CK\n",
    "6QQ)SVV\n",
    "BJK)7ZL\n",
    "YM1)MP6\n",
    "CPN)P6J\n",
    "W34)F8Y\n",
    "VTD)D9T\n",
    "HKP)LNC\n",
    "SS8)B9H\n",
    "NS9)CMY\n",
    "NGP)HN1\n",
    "BG7)NH4\n",
    "R2N)WSL\n",
    "5YL)VR2\n",
    "ZCN)BDN\n",
    "K51)CX9\n",
    "HHQ)2H9\n",
    "CWT)GGB\n",
    "3BJ)CJN\n",
    "XG7)PZM\n",
    "GDQ)YPN\n",
    "BJF)ZZD\n",
    "3PZ)SS8\n",
    "GFJ)JQ3\n",
    "X3M)44F\n",
    "6W4)X69\n",
    "Q74)CTM\n",
    "FFH)71P\n",
    "5X6)44V\n",
    "2N6)GJT\n",
    "1W4)VSN\n",
    "FYT)68M\n",
    "BB1)4RG\n",
    "DL1)ND8\n",
    "JK4)WJR\n",
    "M32)4L2\n",
    "L3H)CWV\n",
    "78L)CLK\n",
    "127)1Q7\n",
    "FKZ)V1S\n",
    "22Z)YS2\n",
    "NWB)8R4\n",
    "5X8)2JB\n",
    "ZKF)HKG\n",
    "HPW)77Y\n",
    "MXS)6Y4\n",
    "ZQC)BX7\n",
    "47Y)4ZP\n",
    "CP8)38Y\n",
    "HJV)Y4N\n",
    "HK5)76F\n",
    "8N2)29X\n",
    "BDH)RS9\n",
    "NR8)K5H\n",
    "GYB)G2P\n",
    "PZM)ZZW\n",
    "G8X)4FT\n",
    "ZM5)95J\n",
    "PJR)PPF\n",
    "BW7)KD1\n",
    "SCK)H31\n",
    "HGC)TGB\n",
    "PZ6)DVY\n",
    "JF3)V33\n",
    "521)PQG\n",
    "H7F)SAN\n",
    "1XK)JC2\n",
    "PQQ)W6F\n",
    "MHN)XMG\n",
    "SVV)H28\n",
    "RJ4)DPL\n",
    "7KF)YNZ\n",
    "7NK)HF4\n",
    "Y3J)PCT\n",
    "X69)HGC\n",
    "PKG)QPF\n",
    "V33)DWV\n",
    "TK8)8T1\n",
    "YWK)69K\n",
    "64R)FZV\n",
    "PMQ)H8Y\n",
    "KDK)NTK\n",
    "WCV)92J\n",
    "RQQ)TK8\n",
    "R2N)GPM\n",
    "YQK)NBV\n",
    "ND4)TBC\n",
    "V5D)WDV\n",
    "HYQ)SSS\n",
    "GMM)H8B\n",
    "W1X)VNJ\n",
    "TLW)BL6\n",
    "Q65)ZJB\n",
    "GHX)XQH\n",
    "YGS)TLV\n",
    "49H)6JK\n",
    "5QG)RD5\n",
    "HGP)PTC\n",
    "V6B)SMM\n",
    "W2C)2KS\n",
    "S5F)1KL\n",
    "F6D)NSX\n",
    "18X)CP8\n",
    "N5Z)TBM\n",
    "F6G)D4Y\n",
    "3Q4)XZP\n",
    "C7K)BCT\n",
    "Z4K)WTT\n",
    "7FS)RWJ\n",
    "CHM)GFJ\n",
    "QPG)Z52\n",
    "RF1)8N2\n",
    "B73)YWK\n",
    "QPF)T58\n",
    "J1C)K4W\n",
    "2NZ)N86\n",
    "QHB)4LG\n",
    "JTJ)WFZ\n",
    "DPR)JTF\n",
    "128)53G\n",
    "ZDP)RFV\n",
    "413)WJS\n",
    "M19)CLL\n",
    "ND8)1YL\n",
    "CHL)277\n",
    "VR2)78L\n",
    "QGJ)P9W\n",
    "PYW)YV7\n",
    "VNQ)RP7\n",
    "Z8V)FN7\n",
    "LGW)PRN\n",
    "17J)ZQ9\n",
    "3RG)9BV\n",
    "Y8S)KTH\n",
    "F95)2R9\n",
    "9G7)ZGN\n",
    "JC2)6K1\n",
    "GBL)JGQ\n",
    "FZY)16X\n",
    "8HF)975\n",
    "K4D)KH7\n",
    "YV7)JC1\n",
    "QXY)4PN\n",
    "BX7)WNT\n",
    "38Y)FYV\n",
    "7LZ)LNQ\n",
    "8NJ)YGN\n",
    "P2L)S2N\n",
    "FHT)XP8\n",
    "TBC)V81\n",
    "34Q)KDP\n",
    "1NF)V4G\n",
    "WTZ)S39\n",
    "NL2)PVM\n",
    "W71)Q6D\n",
    "9FB)L6C\n",
    "NF5)JNL\n",
    "2V8)V3F\n",
    "W6F)FF8\n",
    "92J)YGS\n",
    "SQ7)FKZ\n",
    "HN1)YQK\n",
    "8T1)8PX\n",
    "HLX)JTJ\n",
    "2WN)3CY\n",
    "1F6)79G\n",
    "TXX)G8X\n",
    "LQ9)1W4\n",
    "ZWD)KQL\n",
    "G7L)YTQ\n",
    "BD2)4QK\n",
    "9FB)1BT\n",
    "8XR)W9N\n",
    "1F4)8XF\n",
    "JYM)6S4\n",
    "TML)KKQ\n",
    "HWX)S3Y\n",
    "SND)TR4\n",
    "42D)6TM\n",
    "81T)QZG\n",
    "S39)D8G\n",
    "YQD)78P\n",
    "YMM)5X8\n",
    "JJX)FTS\n",
    "Q74)SCK\n",
    "278)X5Y\n",
    "PJY)49H\n",
    "S4R)9C4\n",
    "H7N)Z12\n",
    "M2B)RLZ\n",
    "Y1J)QTZ\n",
    "93Q)X1P\n",
    "6BD)XKB\n",
    "1GF)VL6\n",
    "6TP)736\n",
    "RD5)C97\n",
    "B6M)D2F\n",
    "37Q)S4R\n",
    "8VN)BB1\n",
    "S2F)YZN\n",
    "G5V)M2B\n",
    "LHX)YXK\n",
    "PWM)P3S\n",
    "ZG1)GNK\n",
    "2JB)B4V\n",
    "4XY)1NG\n",
    "9C4)VV7\n",
    "7NC)PZ6\n",
    "WSL)271\n",
    "FYK)S6H\n",
    "KQL)7NC\n",
    "PKX)BD2\n",
    "FJ1)HLL\n",
    "4TL)QPG\n",
    "YGN)T2J\n",
    "T44)XLQ\n",
    "54H)PJY\n",
    "87N)2PS\n",
    "Z7F)SPC\n",
    "FRX)ZSX\n",
    "B9X)CB1\n",
    "MZM)VNQ\n",
    "WFZ)NHG\n",
    "CX9)HK7\n",
    "8V4)9GM\n",
    "W69)TTZ\n",
    "Z8W)4TB\n",
    "7V2)T5T\n",
    "7Q6)9J3\n",
    "8R4)NPC\n",
    "76F)MFJ\n",
    "QCT)HMW\n",
    "5KN)X4N\n",
    "7TV)QV7\n",
    "46Q)278\n",
    "JC1)X3M\n",
    "97X)N7H\n",
    "WMK)ZBY\n",
    "WCV)KX6\n",
    "MFJ)82Z\n",
    "19L)W21\n",
    "G4X)7GP\n",
    "5ZR)9J7\n",
    "TR5)ZFT\n",
    "D39)1F4\n",
    "NTK)69B\n",
    "KZ2)37Q\n",
    "3CY)SND\n",
    "LMH)VBF\n",
    "RSQ)3YV\n",
    "736)16S\n",
    "Y5C)ZG1\n",
    "85T)XLP\n",
    "9YQ)TGX\n",
    "765)FFC\n",
    "158)TCQ\n",
    "8S6)J5N\n",
    "5CK)F9T\n",
    "GVH)6ZZ\n",
    "V81)WJV\n",
    "1NG)3Q4\n",
    "5NY)NCW\n",
    "BJQ)CRT\n",
    "MWX)PRV\n",
    "YTQ)GC4\n",
    "CXS)7FH\n",
    "Q6D)PCZ\n",
    "9S5)F6D\n",
    "T58)BG7\n",
    "MP6)RZ4\n",
    "PHY)QGJ\n",
    "ZGN)X4G\n",
    "34X)HGP\n",
    "4K2)5NV\n",
    "4LG)853\n",
    "SDL)V7L\n",
    "C5X)XV7\n",
    "PQG)87N\n",
    "8W9)NLP\n",
    "PPF)HKP\n",
    "PL5)Q74\n",
    "VL1)4XY\n",
    "GC4)1QG\n",
    "CGH)YXH\n",
    "4DP)422\n",
    "719)QFB\n",
    "V7L)PS6\n",
    "7T6)G7W\n",
    "D4Y)3GN\n",
    "9GM)T4G\n",
    "YXK)CLD\n",
    "D8G)ZQC\n",
    "W6J)8LZ\n",
    "13W)3W1\n",
    "HK7)DPQ\n",
    "43T)FVJ\n",
    "YXV)W9X\n",
    "H8B)RX5\n",
    "6QM)HXT\n",
    "QKB)PLD\n",
    "78P)BW3\n",
    "9QW)PL5\n",
    "GR6)W1X\n",
    "GHQ)ZRC\n",
    "3W1)D8F\n",
    "VV7)F3R\n",
    "YYP)9PR\n",
    "HJ8)SBC\n",
    "M99)H6R\n",
    "B9H)8S6\n",
    "7GG)CNH\n",
    "MZM)MHN\n",
    "HN1)5M9\n",
    "ZK9)MN5\n",
    "7G6)182\n",
    "XTC)2LV\n",
    "PTC)4D9\n",
    "LXV)9FB\n",
    "P6J)7T6\n",
    "GZ4)Z9D\n",
    "PW8)SJF\n",
    "JRY)RTC\n",
    "NCW)SDH\n",
    "3JC)237\n",
    "ZJB)WFC\n",
    "WYN)7WC\n",
    "P92)BDH\n",
    "NC8)1LY\n",
    "NCV)DJJ\n",
    "QNR)2C4\n",
    "YN2)KV9\n",
    "VNJ)H7N\n",
    "67G)1R6\n",
    "6S4)9YQ\n",
    "K6Q)BFH\n",
    "QFB)SHB\n",
    "RQ4)RF1\n",
    "W3Q)QSM\n",
    "QFJ)PKG\n",
    "XMG)FZY\n",
    "MSF)LMH\n",
    "SBC)979\n",
    "F3R)GYH\n",
    "7SR)NJC\n",
    "7ZL)BCX\n",
    "X4N)L3H\n",
    "HMW)VTD\n",
    "5V1)WVQ\n",
    "S3Y)TLW\n",
    "67L)4GR\n",
    "L86)BJQ\n",
    "ZL7)VND\n",
    "4ZP)R12\n",
    "44F)6FY\n",
    "6X3)ZW3\n",
    "LXJ)LRC\n",
    "Y3J)6CP\n",
    "LLD)4TL\n",
    "4D9)SQ7\n",
    "GL2)5HB\n",
    "3YV)BJK\n",
    "77Y)74M\n",
    "LF3)C7K\n",
    "GJT)91W\n",
    "GK3)Y8S\n",
    "K4W)XDY\n",
    "KDK)KWX\n",
    "SMM)CPZ\n",
    "WBM)D2M\n",
    "VMR)FCS\n",
    "4NJ)W8S\n",
    "BFH)X1Z\n",
    "BG4)7TB\n",
    "CPN)Z21\n",
    "\"\"\"\n",
    "input = [i for i in input.split(\"\\n\") if i != \"\"]\n",
    "orbital_map = create_orbital_map(input)\n",
    "calculate_number_of_orbits(orbital_map)"
   ]
  },
  {
   "cell_type": "code",
   "execution_count": 45,
   "metadata": {},
   "outputs": [
    {
     "name": "stdout",
     "output_type": "stream",
     "text": [
      "orbital map: {'COM': None, 'B': 'COM', 'C': 'B', 'D': 'C', 'E': 'D', 'F': 'E', 'G': 'B', 'H': 'G', 'I': 'D', 'J': 'E', 'K': 'J', 'L': 'K', 'YOU': 'K', 'SAN': 'I'}\n"
     ]
    },
    {
     "data": {
      "text/plain": [
       "['K', 'J', 'E', 'D', 'I']"
      ]
     },
     "execution_count": 45,
     "metadata": {},
     "output_type": "execute_result"
    }
   ],
   "source": [
    "def calculate_trajectory(map):\n",
    "    initial_point = map['YOU']\n",
    "    destination = map['SAN']\n",
    "    \n",
    "    def calc_trajectories(trajectory):\n",
    "        current_point = trajectory[-1]\n",
    "        possible_jumps = [k for k, v in map.items() if v == current_point] + [map[current_point]]\n",
    "        possible_jumps = [i for i in possible_jumps if i not in trajectory and i != 'YOU' and i != None]\n",
    "        if destination in possible_jumps:\n",
    "            return trajectory + [destination]\n",
    "        elif len(possible_jumps) == 0:\n",
    "            return None\n",
    "        elif len(possible_jumps) == 1:\n",
    "            return calc_trajectories(trajectory + [possible_jumps[0]])\n",
    "        else:\n",
    "            new_trajectories = [calc_trajectories(trajectory + [i]) for i in possible_jumps]\n",
    "            new_trajectories = [i for i in new_trajectories if i != None]\n",
    "            if len(new_trajectories) == 0:\n",
    "                return None\n",
    "            if len(new_trajectories) == 1:\n",
    "                return new_trajectories[0]\n",
    "            else:\n",
    "                return new_trajectories\n",
    "        \n",
    "    return calc_trajectories([initial_point])\n",
    "\n",
    "test_2 = \"\"\"\n",
    "COM)B\n",
    "B)C\n",
    "C)D\n",
    "D)E\n",
    "E)F\n",
    "B)G\n",
    "G)H\n",
    "D)I\n",
    "E)J\n",
    "J)K\n",
    "K)L\n",
    "K)YOU\n",
    "I)SAN\n",
    "\"\"\"\n",
    "test_2 = [i for i in test_2.split(\"\\n\") if i != \"\"]\n",
    "\n",
    "test_2_orbital_map = create_orbital_map(test_2)\n",
    "print('orbital map:', test_2_orbital_map)\n",
    "calculate_trajectory(test_2_orbital_map)"
   ]
  },
  {
   "cell_type": "code",
   "execution_count": 48,
   "metadata": {},
   "outputs": [
    {
     "name": "stdout",
     "output_type": "stream",
     "text": [
      "['BSW', 'TR4', 'SND', '3CY', '2WN', 'G2P', 'GYB', 'SK1', 'FQC', 'DBQ', 'M5X', 'JGQ', 'GBL', 'V5X', 'MNC', '82Z', 'MFJ', '76F', 'HK5', '4PN', 'QXY', 'CNH', '7GG', 'D2M', 'WBM', '1X7', 'MXS', 'QLY', 'FTS', 'JJX', '38V', '14T', 'G8X', 'TXX', 'D82', 'BCX', '7ZL', 'BJK', '3YV', 'RSQ', 'R4Y', 'LPJ', 'V5D', 'CRT', 'BJQ', 'L86', 'MG1', '6RF', 'CYX', '71P', 'FFH', '781', 'ZVG', 'XQH', 'GHX', 'K4J', 'P3S', 'PWM', 'JQ3', 'GFJ', 'CHM', '6JK', '49H', 'PJY', '54H', 'FT5', 'V1S', 'FKZ', 'SQ7', '4D9', 'PTC', 'HGP', '34X', 'S5Q', 'L1B', '7KR', 'XJ7', '4FR', 'XKB', '6BD', 'RJC', 'H28', 'SVV', '6QQ', '95J', 'ZM5', 'XLQ', 'T44', '2KK', '89Z', '671', 'QZH', '1BT', '9FB', 'LXV', '2QM', 'N44', 'GBQ', 'W9N', '8XR', '6TM', '42D', '8XF', '1F4', 'D39', '1KM', 'FH9', '7YV', '9GD', 'THN', 'Z9D', 'GZ4', 'F4V', 'PCZ', 'Q6D', 'W71', '355', 'LZ4', 'V4G', '1NF', 'ZBY', 'WMK', 'LNC', 'HKP', 'PPF', 'PJR', '4ZY', '4QK', 'BD2', 'PKX', 'RTC', 'JRY', '9J3', '7Q6', 'KDT', 'R2T', 'HXT', '6QM', '2R9', 'F95', 'GYH', 'F3R', 'VV7', '9C4', 'S4R', '37Q', 'KZ2', 'Z7W', 'ZFW', 'RLZ', 'M2B', 'G5V', 'VSN', '1W4', 'LQ9', 'YNN', 'S2N', 'P2L', '8B4', '2N6', 'GJT', '91W', '6X3', 'ZW3', 'FYJ', 'J1C', 'K4W', 'XDY', 'TDC', '85T', 'XLP', 'SLZ', 'LQV', 'R2N', 'WSL', '271', '7TV', 'QV7', 'Z8W', '4TB', 'RJ4', 'DPL', 'PYW', 'YV7', 'N5Z', 'TBM', 'JTZ', 'WGK', 'HWX', 'S3Y', 'TLW', 'BL6', '2MQ', '79T', 'JV8', 'RVZ', '9QB', '14P', 'H1K', '1WV', '5V1', 'WVQ', 'JSD', '7FS', 'RWJ', '22Z', 'YS2', 'X4J', 'FQ6', 'FHT', 'XP8', '8W9', 'NLP', 'TJS', 'HM1', '9SY', 'CXS', '7FH', '229', 'QNR', '2C4', 'W2C', '2KS', 'MZM', 'VNQ', 'RP7', '1XK', 'JC2', '6K1', '9ZH', 'F8R', '5QG', 'RD5', 'C97', 'K6Q', 'BFH', 'X1Z', 'K51', 'CX9', 'HK7', 'DPQ', 'RQ4', 'RF1', '8N2', '29X', 'PSM', 'M9M', 'WCV', '92J', 'YGS', 'TLV', 'LCJ', 'ZYM', 'YM1', 'MP6', 'RZ4', 'TQV', 'HJ8', 'SBC', '979', 'K9B', 'S9G', 'Q4Z', '2DK', '51S', 'ZCL', '67L', '4GR', '67G', '1R6', 'R3V', '719', 'QFB', 'SHB', 'Q3B', 'R25', 'D6J', 'H7F']\n"
     ]
    },
    {
     "data": {
      "text/plain": [
       "277"
      ]
     },
     "execution_count": 48,
     "metadata": {},
     "output_type": "execute_result"
    }
   ],
   "source": [
    "trajectory = calculate_trajectory(orbital_map)\n",
    "print(trajectory)\n",
    "len(trajectory) - 1"
   ]
  },
  {
   "cell_type": "code",
   "execution_count": null,
   "metadata": {},
   "outputs": [],
   "source": []
  }
 ],
 "metadata": {
  "kernelspec": {
   "display_name": "Python 3",
   "language": "python",
   "name": "python3"
  },
  "language_info": {
   "codemirror_mode": {
    "name": "ipython",
    "version": 3
   },
   "file_extension": ".py",
   "mimetype": "text/x-python",
   "name": "python",
   "nbconvert_exporter": "python",
   "pygments_lexer": "ipython3",
   "version": "3.7.4"
  }
 },
 "nbformat": 4,
 "nbformat_minor": 4
}
